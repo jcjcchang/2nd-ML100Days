{
  "nbformat": 4,
  "nbformat_minor": 0,
  "metadata": {
    "colab": {
      "name": "Day_008_HW.ipynb",
      "version": "0.3.2",
      "provenance": [],
      "include_colab_link": true
    },
    "language_info": {
      "codemirror_mode": {
        "name": "ipython",
        "version": 3
      },
      "file_extension": ".py",
      "mimetype": "text/x-python",
      "name": "python",
      "nbconvert_exporter": "python",
      "pygments_lexer": "ipython3",
      "version": "3.5.6"
    },
    "kernelspec": {
      "display_name": "Python [default]",
      "language": "python",
      "name": "python3"
    }
  },
  "cells": [
    {
      "cell_type": "markdown",
      "metadata": {
        "id": "view-in-github",
        "colab_type": "text"
      },
      "source": [
        "<a href=\"https://colab.research.google.com/github/jcjcchang/2nd-ML100Days/blob/master/homework/Day_008_HW.ipynb\" target=\"_parent\"><img src=\"https://colab.research.google.com/assets/colab-badge.svg\" alt=\"Open In Colab\"/></a>"
      ]
    },
    {
      "metadata": {
        "id": "1Zkw9Ur-z-k-",
        "colab_type": "text"
      },
      "cell_type": "markdown",
      "source": [
        "# 常用的 DataFrame 操作\n",
        "* merge / transform\n",
        "* subset\n",
        "* groupby"
      ]
    },
    {
      "metadata": {
        "id": "05Wee4xpz-lA",
        "colab_type": "code",
        "colab": {}
      },
      "cell_type": "code",
      "source": [
        "# Import 需要的套件\n",
        "import os\n",
        "import numpy as np\n",
        "import pandas as pd\n",
        "import matplotlib.pyplot as plt\n",
        "\n",
        "%matplotlib inline"
      ],
      "execution_count": 0,
      "outputs": []
    },
    {
      "metadata": {
        "id": "s9KwJ6Uzz-lQ",
        "colab_type": "code",
        "colab": {
          "base_uri": "https://localhost:8080/",
          "height": 34
        },
        "outputId": "b258ab84-0305-4af1-b2fc-adf7fb94aa29"
      },
      "cell_type": "code",
      "source": [
        "# 設定 data_path\n",
        "#dir_data = './data/'\n",
        "from google.colab import drive\n",
        "drive.mount('gdrive')"
      ],
      "execution_count": 2,
      "outputs": [
        {
          "output_type": "stream",
          "text": [
            "Drive already mounted at gdrive; to attempt to forcibly remount, call drive.mount(\"gdrive\", force_remount=True).\n"
          ],
          "name": "stdout"
        }
      ]
    },
    {
      "metadata": {
        "id": "OXyyOpDdz-lb",
        "colab_type": "code",
        "colab": {
          "base_uri": "https://localhost:8080/",
          "height": 54
        },
        "outputId": "ca8c07e7-5add-4af9-9b1c-7464815cef1d"
      },
      "cell_type": "code",
      "source": [
        "app_train = pd.read_csv('gdrive/My Drive/draft-ds/application_train.csv')\n",
        "'''\n",
        "f_app = os.path.join(dir_data, 'application_train.csv')\n",
        "print('Path of read in data: %s' % (f_app))\n",
        "app_train = pd.read_csv(f_app)\n",
        "app_train.head()\n",
        "'''"
      ],
      "execution_count": 3,
      "outputs": [
        {
          "output_type": "execute_result",
          "data": {
            "text/plain": [
              "\"\\nf_app = os.path.join(dir_data, 'application_train.csv')\\nprint('Path of read in data: %s' % (f_app))\\napp_train = pd.read_csv(f_app)\\napp_train.head()\\n\""
            ]
          },
          "metadata": {
            "tags": []
          },
          "execution_count": 3
        }
      ]
    },
    {
      "metadata": {
        "id": "SrXUDagdz-lp",
        "colab_type": "text"
      },
      "cell_type": "markdown",
      "source": [
        "## 作業\n",
        "1. 請將 app_train 中的 CNT_CHILDREN 依照下列規則分為四組，並將其結果在原本的 dataframe 命名為 CNT_CHILDREN_GROUP\n",
        "    * 0 個小孩\n",
        "    * 有 1 - 2 個小孩\n",
        "    * 有 3 - 5 個小孩\n",
        "    * 有超過 5 個小孩\n",
        "\n",
        "2. 請根據 CNT_CHILDREN_GROUP 以及 TARGET，列出各組的平均 AMT_INCOME_TOTAL，並繪製 baxplot\n",
        "3. 請根據 CNT_CHILDREN_GROUP 以及 TARGET，對 AMT_INCOME_TOTAL 計算 [Z 轉換](https://en.wikipedia.org/wiki/Standard_score) 後的分數"
      ]
    },
    {
      "metadata": {
        "id": "P37gtSPy1MI5",
        "colab_type": "code",
        "colab": {
          "base_uri": "https://localhost:8080/",
          "height": 140
        },
        "outputId": "a21d0d1d-25f7-4886-b6b7-03ba29115fb1"
      },
      "cell_type": "code",
      "source": [
        "print(app_train[['CNT_CHILDREN','AMT_INCOME_TOTAL']].head())\n",
        "print(app_train['CNT_CHILDREN'].max())"
      ],
      "execution_count": 12,
      "outputs": [
        {
          "output_type": "stream",
          "text": [
            "   CNT_CHILDREN  AMT_INCOME_TOTAL\n",
            "0             0          202500.0\n",
            "1             0          270000.0\n",
            "2             0           67500.0\n",
            "3             0          135000.0\n",
            "4             0          121500.0\n",
            "19\n"
          ],
          "name": "stdout"
        }
      ]
    },
    {
      "metadata": {
        "id": "V_wRTR2Dz-lr",
        "colab_type": "code",
        "colab": {
          "base_uri": "https://localhost:8080/",
          "height": 105
        },
        "outputId": "16536701-81f9-4651-cdb4-5e5b2421b60c"
      },
      "cell_type": "code",
      "source": [
        "#1\n",
        "\"\"\"\n",
        "Your code here\n",
        "\"\"\"\n",
        "cut_rule = [0,1,2,5,app_train['CNT_CHILDREN'].max()]\n",
        "\n",
        "app_train['CNT_CHILDREN_GROUP'] = pd.cut(app_train['CNT_CHILDREN'].values, cut_rule, include_lowest=True)\n",
        "app_train['CNT_CHILDREN_GROUP'].value_counts()\n"
      ],
      "execution_count": 17,
      "outputs": [
        {
          "output_type": "execute_result",
          "data": {
            "text/plain": [
              "(-0.001, 1.0]    276490\n",
              "(1.0, 2.0]        26749\n",
              "(2.0, 5.0]         4230\n",
              "(5.0, 19.0]          42\n",
              "Name: CNT_CHILDREN_GROUP, dtype: int64"
            ]
          },
          "metadata": {
            "tags": []
          },
          "execution_count": 17
        }
      ]
    },
    {
      "metadata": {
        "id": "pa1RVfuSz-l1",
        "colab_type": "code",
        "colab": {
          "base_uri": "https://localhost:8080/",
          "height": 195
        },
        "outputId": "ff5f6f71-acbb-4180-b915-4bf79db2ada3"
      },
      "cell_type": "code",
      "source": [
        "#2-1\n",
        "\"\"\"\n",
        "Your code here\n",
        "\"\"\"\n",
        "grp = ['CNT_CHILDREN_GROUP']\n",
        "\n",
        "grouped_df = app_train.groupby(grp)['AMT_INCOME_TOTAL','TARGET']\n",
        "grouped_df.mean()"
      ],
      "execution_count": 26,
      "outputs": [
        {
          "output_type": "execute_result",
          "data": {
            "text/html": [
              "<div>\n",
              "<style scoped>\n",
              "    .dataframe tbody tr th:only-of-type {\n",
              "        vertical-align: middle;\n",
              "    }\n",
              "\n",
              "    .dataframe tbody tr th {\n",
              "        vertical-align: top;\n",
              "    }\n",
              "\n",
              "    .dataframe thead th {\n",
              "        text-align: right;\n",
              "    }\n",
              "</style>\n",
              "<table border=\"1\" class=\"dataframe\">\n",
              "  <thead>\n",
              "    <tr style=\"text-align: right;\">\n",
              "      <th></th>\n",
              "      <th>AMT_INCOME_TOTAL</th>\n",
              "      <th>TARGET</th>\n",
              "    </tr>\n",
              "    <tr>\n",
              "      <th>CNT_CHILDREN_GROUP</th>\n",
              "      <th></th>\n",
              "      <th></th>\n",
              "    </tr>\n",
              "  </thead>\n",
              "  <tbody>\n",
              "    <tr>\n",
              "      <th>(-0.001, 1.0]</th>\n",
              "      <td>168361.253573</td>\n",
              "      <td>0.079797</td>\n",
              "    </tr>\n",
              "    <tr>\n",
              "      <th>(1.0, 2.0]</th>\n",
              "      <td>172580.748737</td>\n",
              "      <td>0.087218</td>\n",
              "    </tr>\n",
              "    <tr>\n",
              "      <th>(2.0, 5.0]</th>\n",
              "      <td>173626.303191</td>\n",
              "      <td>0.099291</td>\n",
              "    </tr>\n",
              "    <tr>\n",
              "      <th>(5.0, 19.0]</th>\n",
              "      <td>147910.714286</td>\n",
              "      <td>0.214286</td>\n",
              "    </tr>\n",
              "  </tbody>\n",
              "</table>\n",
              "</div>"
            ],
            "text/plain": [
              "                    AMT_INCOME_TOTAL    TARGET\n",
              "CNT_CHILDREN_GROUP                            \n",
              "(-0.001, 1.0]          168361.253573  0.079797\n",
              "(1.0, 2.0]             172580.748737  0.087218\n",
              "(2.0, 5.0]             173626.303191  0.099291\n",
              "(5.0, 19.0]            147910.714286  0.214286"
            ]
          },
          "metadata": {
            "tags": []
          },
          "execution_count": 26
        }
      ]
    },
    {
      "metadata": {
        "id": "LPqSSnlSz-mA",
        "colab_type": "code",
        "colab": {
          "base_uri": "https://localhost:8080/",
          "height": 780
        },
        "outputId": "e9133ed9-9f64-4986-df93-5eac66f59359"
      },
      "cell_type": "code",
      "source": [
        "\"\"\"\n",
        "Your code here\n",
        "\"\"\"\n",
        "plt_column = ['AMT_INCOME_TOTAL','TARGET']\n",
        "plt_by = ['CNT_CHILDREN_GROUP']\n",
        "\n",
        "app_train.boxplot(column=plt_column, by = plt_by, showfliers = False, figsize=(12,12))\n",
        "plt.suptitle('AMT_INCOME_TOTAL & TARGET by CNT_CHILDREN_GROUP')\n",
        "plt.show()"
      ],
      "execution_count": 24,
      "outputs": [
        {
          "output_type": "display_data",
          "data": {
            "image/png": "[encoded data removed]",
            "text/plain": [
              "<Figure size 864x864 with 2 Axes>"
            ]
          },
          "metadata": {
            "tags": []
          }
        }
      ]
    },
    {
      "metadata": {
        "id": "j1cN-9ZX52ic",
        "colab_type": "text"
      },
      "cell_type": "markdown",
      "source": [
        "請根據 CNT_CHILDREN_GROUP 以及 TARGET，對 AMT_INCOME_TOTAL 計算 Z 轉換 後的分數"
      ]
    },
    {
      "metadata": {
        "id": "m8g7Mg9Dz-mG",
        "colab_type": "code",
        "colab": {
          "base_uri": "https://localhost:8080/",
          "height": 195
        },
        "outputId": "064c72e9-113e-437f-ed54-aa3353497c03"
      },
      "cell_type": "code",
      "source": [
        "#3\n",
        "\"\"\"\n",
        "Your code here\n",
        "\"\"\"\n",
        "grouped_df = app_train.groupby(grp)['AMT_INCOME_TOTAL']\n",
        "\n",
        "AMT_INCOME_TOTAL_mean = app_train['AMT_INCOME_TOTAL'].mean()\n",
        "AMT_INCOME_TOTAL_std = app_train['AMT_INCOME_TOTAL'].std()\n",
        "\n",
        "\n",
        "app_train['AMT_INCOME_TOTAL_Z_BY_CHILDREN_GRP-TARGET'] = grouped_df.apply(lambda x: (x - AMT_INCOME_TOTAL_mean )/ AMT_INCOME_TOTAL_std)\n",
        "\n",
        "app_train[['AMT_INCOME_TOTAL','AMT_INCOME_TOTAL_Z_BY_CHILDREN_GRP-TARGET']].head()"
      ],
      "execution_count": 33,
      "outputs": [
        {
          "output_type": "execute_result",
          "data": {
            "text/html": [
              "<div>\n",
              "<style scoped>\n",
              "    .dataframe tbody tr th:only-of-type {\n",
              "        vertical-align: middle;\n",
              "    }\n",
              "\n",
              "    .dataframe tbody tr th {\n",
              "        vertical-align: top;\n",
              "    }\n",
              "\n",
              "    .dataframe thead th {\n",
              "        text-align: right;\n",
              "    }\n",
              "</style>\n",
              "<table border=\"1\" class=\"dataframe\">\n",
              "  <thead>\n",
              "    <tr style=\"text-align: right;\">\n",
              "      <th></th>\n",
              "      <th>AMT_INCOME_TOTAL</th>\n",
              "      <th>AMT_INCOME_TOTAL_Z_BY_CHILDREN_GRP-TARGET</th>\n",
              "    </tr>\n",
              "  </thead>\n",
              "  <tbody>\n",
              "    <tr>\n",
              "      <th>0</th>\n",
              "      <td>202500.0</td>\n",
              "      <td>0.142129</td>\n",
              "    </tr>\n",
              "    <tr>\n",
              "      <th>1</th>\n",
              "      <td>270000.0</td>\n",
              "      <td>0.426791</td>\n",
              "    </tr>\n",
              "    <tr>\n",
              "      <th>2</th>\n",
              "      <td>67500.0</td>\n",
              "      <td>-0.427195</td>\n",
              "    </tr>\n",
              "    <tr>\n",
              "      <th>3</th>\n",
              "      <td>135000.0</td>\n",
              "      <td>-0.142533</td>\n",
              "    </tr>\n",
              "    <tr>\n",
              "      <th>4</th>\n",
              "      <td>121500.0</td>\n",
              "      <td>-0.199466</td>\n",
              "    </tr>\n",
              "  </tbody>\n",
              "</table>\n",
              "</div>"
            ],
            "text/plain": [
              "   AMT_INCOME_TOTAL  AMT_INCOME_TOTAL_Z_BY_CHILDREN_GRP-TARGET\n",
              "0          202500.0                                   0.142129\n",
              "1          270000.0                                   0.426791\n",
              "2           67500.0                                  -0.427195\n",
              "3          135000.0                                  -0.142533\n",
              "4          121500.0                                  -0.199466"
            ]
          },
          "metadata": {
            "tags": []
          },
          "execution_count": 33
        }
      ]
    },
    {
      "metadata": {
        "id": "emY8hFZi6P1T",
        "colab_type": "code",
        "colab": {}
      },
      "cell_type": "code",
      "source": [
        ""
      ],
      "execution_count": 0,
      "outputs": []
    }
  ]
}