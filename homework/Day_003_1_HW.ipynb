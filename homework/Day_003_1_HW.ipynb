{
  "nbformat": 4,
  "nbformat_minor": 0,
  "metadata": {
    "colab": {
      "name": "Day_003-1_HW.ipynb",
      "version": "0.3.2",
      "provenance": [],
      "include_colab_link": true
    },
    "language_info": {
      "codemirror_mode": {
        "name": "ipython",
        "version": 3
      },
      "file_extension": ".py",
      "mimetype": "text/x-python",
      "name": "python",
      "nbconvert_exporter": "python",
      "pygments_lexer": "ipython3",
      "version": "3.6.1"
    },
    "kernelspec": {
      "display_name": "Python 3",
      "language": "python",
      "name": "python3"
    }
  },
  "cells": [
    {
      "cell_type": "markdown",
      "metadata": {
        "id": "view-in-github",
        "colab_type": "text"
      },
      "source": [
        "<a href=\"https://colab.research.google.com/github/jcjcchang/2nd-ML100Days/blob/master/homework/Day_003_1_HW.ipynb\" target=\"_parent\"><img src=\"https://colab.research.google.com/assets/colab-badge.svg\" alt=\"Open In Colab\"/></a>"
      ]
    },
    {
      "metadata": {
        "id": "AioDkqS-mHy4",
        "colab_type": "text"
      },
      "cell_type": "markdown",
      "source": [
        "## 練習時間\n",
        "在小量的資料上，我們用眼睛就可以看得出來程式碼是否有跑出我們理想中的結果\n",
        "\n",
        "請嘗試想像一個你需要的資料結構 (裡面的值可以是隨機的)，然後用上述的方法把它變成 pandas DataFrame\n",
        "\n",
        "#### Ex: 想像一個 dataframe 有兩個欄位，一個是國家，一個是人口，求人口數最多的國家\n",
        "\n",
        "### Hints: [隨機產生數值](https://blog.csdn.net/christianashannon/article/details/78867204)"
      ]
    },
    {
      "metadata": {
        "id": "Hj3rLPTumHy6",
        "colab_type": "code",
        "colab": {}
      },
      "cell_type": "code",
      "source": [
        "import pandas as pd\n",
        "import numpy as np"
      ],
      "execution_count": 0,
      "outputs": []
    },
    {
      "metadata": {
        "id": "GE9K603vmHzG",
        "colab_type": "code",
        "colab": {}
      },
      "cell_type": "code",
      "source": [
        "data = {'國家': ['Taiwan','China','Japan'],\n",
        "        '人口': [2300,130000,12700],\n",
        "       '隨機值':np.random.rand(3)}\n",
        "data = pd.DataFrame(data)"
      ],
      "execution_count": 0,
      "outputs": []
    },
    {
      "metadata": {
        "id": "eQQEynNwmHzL",
        "colab_type": "code",
        "colab": {
          "base_uri": "https://localhost:8080/",
          "height": 87
        },
        "outputId": "3412f8fb-ce42-48bd-b75f-275c3f996f0f"
      },
      "cell_type": "code",
      "source": [
        "print(data.head())"
      ],
      "execution_count": 11,
      "outputs": [
        {
          "output_type": "stream",
          "text": [
            "       國家      人口       隨機值\n",
            "0  Taiwan    2300  0.670361\n",
            "1   China  130000  0.822067\n",
            "2   Japan   12700  0.862480\n"
          ],
          "name": "stdout"
        }
      ]
    },
    {
      "metadata": {
        "id": "JGPZHwM_oJIh",
        "colab_type": "code",
        "colab": {
          "base_uri": "https://localhost:8080/",
          "height": 72
        },
        "outputId": "21c3bc3b-5e5b-4ea5-c31f-5ad54a76dc13"
      },
      "cell_type": "code",
      "source": [
        "countries = ['Taiwan','United States','Thailand']\n",
        "population = [300000,5000000,70000000]\n",
        "list_labels = ['country','population']\n",
        "list_cols = [countries,population]\n",
        "\n",
        "zipped = list(zip(list_labels,list_cols))\n",
        "print(zipped)\n",
        "print(zip(list_labels,list_cols))"
      ],
      "execution_count": 13,
      "outputs": [
        {
          "output_type": "stream",
          "text": [
            "[('country', ['Taiwan', 'United States', 'Thailand']), ('population', [300000, 5000000, 70000000])]\n",
            "<zip object at 0x7f20bca9c948>\n"
          ],
          "name": "stdout"
        }
      ]
    },
    {
      "metadata": {
        "id": "LUMvddqYp1Aa",
        "colab_type": "code",
        "colab": {
          "base_uri": "https://localhost:8080/",
          "height": 87
        },
        "outputId": "0dcbae60-7820-403e-bb0e-8be3ee0deaf1"
      },
      "cell_type": "code",
      "source": [
        "data_2 = pd.DataFrame(dict(zipped))\n",
        "print(data_2)"
      ],
      "execution_count": 14,
      "outputs": [
        {
          "output_type": "stream",
          "text": [
            "         country  population\n",
            "0         Taiwan      300000\n",
            "1  United States     5000000\n",
            "2       Thailand    70000000\n"
          ],
          "name": "stdout"
        }
      ]
    },
    {
      "metadata": {
        "id": "cwLm5-fgqOyd",
        "colab_type": "code",
        "colab": {}
      },
      "cell_type": "code",
      "source": [
        ""
      ],
      "execution_count": 0,
      "outputs": []
    }
  ]
}