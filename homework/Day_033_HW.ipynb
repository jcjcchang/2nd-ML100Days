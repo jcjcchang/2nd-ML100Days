{
  "nbformat": 4,
  "nbformat_minor": 0,
  "metadata": {
    "colab": {
      "name": "Day_033_HW.ipynb",
      "version": "0.3.2",
      "provenance": [],
      "include_colab_link": true
    },
    "language_info": {
      "codemirror_mode": {
        "name": "ipython",
        "version": 3
      },
      "file_extension": ".py",
      "mimetype": "text/x-python",
      "name": "python",
      "nbconvert_exporter": "python",
      "pygments_lexer": "ipython3",
      "version": "3.6.2"
    },
    "kernelspec": {
      "display_name": "Python 3",
      "language": "python",
      "name": "python3"
    }
  },
  "cells": [
    {
      "cell_type": "markdown",
      "metadata": {
        "id": "view-in-github",
        "colab_type": "text"
      },
      "source": [
        "<a href=\"https://colab.research.google.com/github/jcjcchang/2nd-ML100Days/blob/master/homework/Day_033_HW.ipynb\" target=\"_parent\"><img src=\"https://colab.research.google.com/assets/colab-badge.svg\" alt=\"Open In Colab\"/></a>"
      ]
    },
    {
      "cell_type": "markdown",
      "metadata": {
        "id": "AmLztabvHFGf",
        "colab_type": "text"
      },
      "source": [
        "## 練習時間"
      ]
    },
    {
      "cell_type": "markdown",
      "metadata": {
        "id": "kDSVsRPvHHf4",
        "colab_type": "text"
      },
      "source": [
        "1. 所謂泛化能力(generalization ability)是指機器學習演算法對新鮮樣本的適應能力。學習的目的是學到隱含在資料對背後的規律，對具有同一規律的學習集以外的資料，經過訓練的網路也能給出合適的輸出，該能力稱為泛化能力。\n",
        "\n",
        "\n",
        "\n",
        "2. \n",
        "分類問題 : \n",
        "回歸問題 : Linear Regression "
      ]
    },
    {
      "cell_type": "markdown",
      "metadata": {
        "id": "9k9U5ke2HFGg",
        "colab_type": "text"
      },
      "source": [
        "請觀看李宏毅教授以神奇寶貝進化 CP 值預測的範例，解說何謂機器學習與過擬合。並回答以下問題"
      ]
    },
    {
      "cell_type": "markdown",
      "metadata": {
        "id": "m6R33yhuHFGh",
        "colab_type": "text"
      },
      "source": [
        "[youtube](https://www.youtube.com/watch?v=fegAeph9UaA)"
      ]
    },
    {
      "cell_type": "markdown",
      "metadata": {
        "id": "G_zlqtC0HFGj",
        "colab_type": "text"
      },
      "source": [
        "### 1. 模型的泛化能力 (generalization) 是指什麼？ \n",
        "### 2. 分類問題與回歸問題分別可用的目標函數有哪些？"
      ]
    }
  ]
}