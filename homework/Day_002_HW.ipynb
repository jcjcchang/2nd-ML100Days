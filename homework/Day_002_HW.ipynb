{
  "nbformat": 4,
  "nbformat_minor": 0,
  "metadata": {
    "colab": {
      "name": "Day_002_HW.ipynb",
      "version": "0.3.2",
      "provenance": [],
      "include_colab_link": true
    },
    "language_info": {
      "codemirror_mode": {
        "name": "ipython",
        "version": 3
      },
      "file_extension": ".py",
      "mimetype": "text/x-python",
      "name": "python",
      "nbconvert_exporter": "python",
      "pygments_lexer": "ipython3",
      "version": "3.6.1"
    },
    "kernelspec": {
      "display_name": "Python 3",
      "language": "python",
      "name": "python3"
    }
  },
  "cells": [
    {
      "cell_type": "markdown",
      "metadata": {
        "id": "view-in-github",
        "colab_type": "text"
      },
      "source": [
        "<a href=\"https://colab.research.google.com/github/jcjcchang/2nd-ML100Days/blob/master/homework/Day_002_HW.ipynb\" target=\"_parent\"><img src=\"https://colab.research.google.com/assets/colab-badge.svg\" alt=\"Open In Colab\"/></a>"
      ]
    },
    {
      "metadata": {
        "id": "MFQTHf8ZuDj7",
        "colab_type": "text"
      },
      "cell_type": "markdown",
      "source": [
        "## 練習時間\n",
        "資料的操作有很多，接下來的馬拉松中我們會介紹常被使用到的操作，參加者不妨先自行想像一下，第一次看到資料，我們一般會想知道什麼訊息？\n",
        "\n",
        "#### Ex: 如何知道資料的 row 數以及 column 數、有什麼欄位、多少欄位、如何截取部分的資料等等\n",
        "\n",
        "有了對資料的好奇之後，我們又怎麼通過程式碼來達成我們的目的呢？\n",
        "\n",
        "#### 可參考該[基礎教材](https://bookdata.readthedocs.io/en/latest/base/01_pandas.html#DataFrame-%E5%85%A5%E9%97%A8)或自行 google"
      ]
    },
    {
      "metadata": {
        "id": "MDzyk5lpuDj9",
        "colab_type": "code",
        "colab": {}
      },
      "cell_type": "code",
      "source": [
        "import os\n",
        "import numpy as np\n",
        "import pandas as pd"
      ],
      "execution_count": 0,
      "outputs": []
    },
    {
      "metadata": {
        "id": "ITlBgBwtuDkB",
        "colab_type": "code",
        "colab": {}
      },
      "cell_type": "code",
      "source": [
        "# 設定 data_path\n",
        "dir_data = './data/'"
      ],
      "execution_count": 0,
      "outputs": []
    },
    {
      "metadata": {
        "id": "-spb-N3luDkH",
        "colab_type": "code",
        "colab": {}
      },
      "cell_type": "code",
      "source": [
        "f_app = os.path.join(dir_data, 'application_train.csv')\n",
        "print('Path of read in data: %s' % (f_app))\n",
        "app_train = pd.read_csv(f_app)"
      ],
      "execution_count": 0,
      "outputs": []
    },
    {
      "metadata": {
        "id": "wMvmMuzguDkO",
        "colab_type": "text"
      },
      "cell_type": "markdown",
      "source": [
        "### 如果沒有想法，可以先嘗試找出剛剛例子中提到的問題的答案\n",
        "#### 資料的 row 數以及 column 數\n",
        "\n",
        "A: \n",
        "48744 row\n",
        "121 column"
      ]
    },
    {
      "metadata": {
        "id": "XerT-ChTuDkQ",
        "colab_type": "code",
        "colab": {
          "base_uri": "https://localhost:8080/",
          "height": 121
        },
        "outputId": "c0b10d23-2484-4b42-e654-a3c2e9a66433"
      },
      "cell_type": "code",
      "source": [
        "df = pd.read_csv('application_test.csv')\n",
        "\n",
        "print(df.info())"
      ],
      "execution_count": 6,
      "outputs": [
        {
          "output_type": "stream",
          "text": [
            "<class 'pandas.core.frame.DataFrame'>\n",
            "RangeIndex: 48744 entries, 0 to 48743\n",
            "Columns: 121 entries, SK_ID_CURR to AMT_REQ_CREDIT_BUREAU_YEAR\n",
            "dtypes: float64(65), int64(40), object(16)\n",
            "memory usage: 45.0+ MB\n",
            "None\n"
          ],
          "name": "stdout"
        }
      ]
    },
    {
      "metadata": {
        "id": "Q6_y5z8KuDkV",
        "colab_type": "text"
      },
      "cell_type": "markdown",
      "source": [
        "#### 列出所有欄位"
      ]
    },
    {
      "metadata": {
        "id": "F8WD123suDkX",
        "colab_type": "code",
        "colab": {
          "base_uri": "https://localhost:8080/",
          "height": 191
        },
        "outputId": "94baa969-a7fb-443e-8d02-51d8d70750de"
      },
      "cell_type": "code",
      "source": [
        "\n",
        "print(df.columns)"
      ],
      "execution_count": 11,
      "outputs": [
        {
          "output_type": "stream",
          "text": [
            "Index(['SK_ID_CURR', 'NAME_CONTRACT_TYPE', 'CODE_GENDER', 'FLAG_OWN_CAR',\n",
            "       'FLAG_OWN_REALTY', 'CNT_CHILDREN', 'AMT_INCOME_TOTAL', 'AMT_CREDIT',\n",
            "       'AMT_ANNUITY', 'AMT_GOODS_PRICE',\n",
            "       ...\n",
            "       'FLAG_DOCUMENT_18', 'FLAG_DOCUMENT_19', 'FLAG_DOCUMENT_20',\n",
            "       'FLAG_DOCUMENT_21', 'AMT_REQ_CREDIT_BUREAU_HOUR',\n",
            "       'AMT_REQ_CREDIT_BUREAU_DAY', 'AMT_REQ_CREDIT_BUREAU_WEEK',\n",
            "       'AMT_REQ_CREDIT_BUREAU_MON', 'AMT_REQ_CREDIT_BUREAU_QRT',\n",
            "       'AMT_REQ_CREDIT_BUREAU_YEAR'],\n",
            "      dtype='object', length=121)\n"
          ],
          "name": "stdout"
        }
      ]
    },
    {
      "metadata": {
        "id": "11LKinsiuDkc",
        "colab_type": "text"
      },
      "cell_type": "markdown",
      "source": [
        "#### 截取部分資料"
      ]
    },
    {
      "metadata": {
        "id": "hUlg-hHLuDkd",
        "colab_type": "code",
        "colab": {
          "base_uri": "https://localhost:8080/",
          "height": 884
        },
        "outputId": "c34454ae-97dd-484a-e3de-a64e9a4bd518"
      },
      "cell_type": "code",
      "source": [
        "print(df.head())"
      ],
      "execution_count": 12,
      "outputs": [
        {
          "output_type": "stream",
          "text": [
            "   SK_ID_CURR NAME_CONTRACT_TYPE CODE_GENDER FLAG_OWN_CAR FLAG_OWN_REALTY  \\\n",
            "0      100001         Cash loans           F            N               Y   \n",
            "1      100005         Cash loans           M            N               Y   \n",
            "2      100013         Cash loans           M            Y               Y   \n",
            "3      100028         Cash loans           F            N               Y   \n",
            "4      100038         Cash loans           M            Y               N   \n",
            "\n",
            "   CNT_CHILDREN  AMT_INCOME_TOTAL  AMT_CREDIT  AMT_ANNUITY  AMT_GOODS_PRICE  \\\n",
            "0             0          135000.0    568800.0      20560.5         450000.0   \n",
            "1             0           99000.0    222768.0      17370.0         180000.0   \n",
            "2             0          202500.0    663264.0      69777.0         630000.0   \n",
            "3             2          315000.0   1575000.0      49018.5        1575000.0   \n",
            "4             1          180000.0    625500.0      32067.0         625500.0   \n",
            "\n",
            "              ...             FLAG_DOCUMENT_18 FLAG_DOCUMENT_19  \\\n",
            "0             ...                            0                0   \n",
            "1             ...                            0                0   \n",
            "2             ...                            0                0   \n",
            "3             ...                            0                0   \n",
            "4             ...                            0                0   \n",
            "\n",
            "  FLAG_DOCUMENT_20 FLAG_DOCUMENT_21 AMT_REQ_CREDIT_BUREAU_HOUR  \\\n",
            "0                0                0                        0.0   \n",
            "1                0                0                        0.0   \n",
            "2                0                0                        0.0   \n",
            "3                0                0                        0.0   \n",
            "4                0                0                        NaN   \n",
            "\n",
            "   AMT_REQ_CREDIT_BUREAU_DAY  AMT_REQ_CREDIT_BUREAU_WEEK  \\\n",
            "0                        0.0                         0.0   \n",
            "1                        0.0                         0.0   \n",
            "2                        0.0                         0.0   \n",
            "3                        0.0                         0.0   \n",
            "4                        NaN                         NaN   \n",
            "\n",
            "   AMT_REQ_CREDIT_BUREAU_MON  AMT_REQ_CREDIT_BUREAU_QRT  \\\n",
            "0                        0.0                        0.0   \n",
            "1                        0.0                        0.0   \n",
            "2                        0.0                        1.0   \n",
            "3                        0.0                        0.0   \n",
            "4                        NaN                        NaN   \n",
            "\n",
            "   AMT_REQ_CREDIT_BUREAU_YEAR  \n",
            "0                         0.0  \n",
            "1                         3.0  \n",
            "2                         4.0  \n",
            "3                         3.0  \n",
            "4                         NaN  \n",
            "\n",
            "[5 rows x 121 columns]\n"
          ],
          "name": "stdout"
        }
      ]
    },
    {
      "metadata": {
        "id": "mwU6S1fOuDkg",
        "colab_type": "text"
      },
      "cell_type": "markdown",
      "source": [
        "#### 還有各種數之不盡的資料操作，重點還是取決於實務中遇到的狀況和你想問的問題，在馬拉松中我們也會陸續提到更多例子"
      ]
    },
    {
      "metadata": {
        "id": "PhyNCMwcuDkg",
        "colab_type": "code",
        "colab": {}
      },
      "cell_type": "code",
      "source": [
        ""
      ],
      "execution_count": 0,
      "outputs": []
    }
  ]
}