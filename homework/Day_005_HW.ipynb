{
  "nbformat": 4,
  "nbformat_minor": 0,
  "metadata": {
    "colab": {
      "name": "Day_005_HW.ipynb",
      "version": "0.3.2",
      "provenance": [],
      "toc_visible": true,
      "include_colab_link": true
    },
    "language_info": {
      "codemirror_mode": {
        "name": "ipython",
        "version": 3
      },
      "file_extension": ".py",
      "mimetype": "text/x-python",
      "name": "python",
      "nbconvert_exporter": "python",
      "pygments_lexer": "ipython3",
      "version": "3.6.1"
    },
    "kernelspec": {
      "display_name": "Python 3",
      "language": "python",
      "name": "python3"
    }
  },
  "cells": [
    {
      "cell_type": "markdown",
      "metadata": {
        "id": "view-in-github",
        "colab_type": "text"
      },
      "source": [
        "<a href=\"https://colab.research.google.com/github/jcjcchang/2nd-ML100Days/blob/master/homework/Day_005_HW.ipynb\" target=\"_parent\"><img src=\"https://colab.research.google.com/assets/colab-badge.svg\" alt=\"Open In Colab\"/></a>"
      ]
    },
    {
      "metadata": {
        "id": "auFtcI0DUgbg",
        "colab_type": "code",
        "colab": {}
      },
      "cell_type": "code",
      "source": [
        "# Import 需要的套件\n",
        "import os\n",
        "import numpy as np\n",
        "import pandas as pd\n",
        "\n",
        "# 設定 data_path\n",
        "#dir_data = './data/'"
      ],
      "execution_count": 0,
      "outputs": []
    },
    {
      "metadata": {
        "id": "385ODXc_VLpD",
        "colab_type": "code",
        "outputId": "c0281e2e-a3d1-458c-a898-df99e52cb7ce",
        "colab": {
          "base_uri": "https://localhost:8080/",
          "height": 122
        }
      },
      "cell_type": "code",
      "source": [
        "from google.colab import drive\n",
        "drive.mount('gdrive')"
      ],
      "execution_count": 3,
      "outputs": [
        {
          "output_type": "stream",
          "text": [
            "Go to this URL in a browser: https://accounts.google.com/o/oauth2/auth?client_id=947318989803-6bn6qk8qdgf4n4g3pfee6491hc0brc4i.apps.googleusercontent.com&redirect_uri=urn%3Aietf%3Awg%3Aoauth%3A2.0%3Aoob&scope=email%20https%3A%2F%2Fwww.googleapis.com%2Fauth%2Fdocs.test%20https%3A%2F%2Fwww.googleapis.com%2Fauth%2Fdrive%20https%3A%2F%2Fwww.googleapis.com%2Fauth%2Fdrive.photos.readonly%20https%3A%2F%2Fwww.googleapis.com%2Fauth%2Fpeopleapi.readonly&response_type=code\n",
            "\n",
            "Enter your authorization code:\n",
            "··········\n",
            "Mounted at gdrive\n"
          ],
          "name": "stdout"
        }
      ]
    },
    {
      "metadata": {
        "id": "7AfneMJ-Ugbp",
        "colab_type": "code",
        "colab": {}
      },
      "cell_type": "code",
      "source": [
        "#f_app_train = os.path.join(dir_data, 'application_train.csv')\n",
        "#app_train = pd.read_csv(f_app_train)\n",
        "app_train = pd.read_csv('gdrive/My Drive/draft-ds/application_train.csv')"
      ],
      "execution_count": 0,
      "outputs": []
    },
    {
      "metadata": {
        "id": "pNzfhR9QUgbw",
        "colab_type": "code",
        "colab": {}
      },
      "cell_type": "code",
      "source": [
        "import matplotlib.pyplot as plt\n",
        "%matplotlib inline"
      ],
      "execution_count": 0,
      "outputs": []
    },
    {
      "metadata": {
        "id": "h0cyO_hLUgb1",
        "colab_type": "text"
      },
      "cell_type": "markdown",
      "source": [
        "## 練習時間"
      ]
    },
    {
      "metadata": {
        "id": "t3eNlpt9Ugb3",
        "colab_type": "text"
      },
      "cell_type": "markdown",
      "source": [
        "觀察有興趣的欄位的資料分佈，並嘗試找出有趣的訊息\n",
        "#### Eg\n",
        "- 計算任意欄位的平均數及標準差\n",
        "- 畫出任意欄位的[直方圖](https://zh.wikipedia.org/zh-tw/%E7%9B%B4%E6%96%B9%E5%9B%BE)\n",
        "\n",
        "### Hints:\n",
        "- [Descriptive Statistics For pandas Dataframe](https://chrisalbon.com/python/data_wrangling/pandas_dataframe_descriptive_stats/)\n",
        "- [pandas 中的繪圖函數](https://amaozhao.gitbooks.io/pandas-notebook/content/pandas%E4%B8%AD%E7%9A%84%E7%BB%98%E5%9B%BE%E5%87%BD%E6%95%B0.html)\n"
      ]
    },
    {
      "metadata": {
        "id": "Ud279PVyUgb5",
        "colab_type": "code",
        "outputId": "fbb8bdaa-0530-43b8-967c-21ec5f46b349",
        "colab": {
          "base_uri": "https://localhost:8080/",
          "height": 748
        }
      },
      "cell_type": "code",
      "source": [
        "print(app_train.head())"
      ],
      "execution_count": 24,
      "outputs": [
        {
          "output_type": "stream",
          "text": [
            "   SK_ID_CURR  TARGET NAME_CONTRACT_TYPE CODE_GENDER FLAG_OWN_CAR  \\\n",
            "0      100002       1         Cash loans           M            N   \n",
            "1      100003       0         Cash loans           F            N   \n",
            "2      100004       0    Revolving loans           M            Y   \n",
            "3      100006       0         Cash loans           F            N   \n",
            "4      100007       0         Cash loans           M            N   \n",
            "\n",
            "  FLAG_OWN_REALTY  CNT_CHILDREN  AMT_INCOME_TOTAL  AMT_CREDIT  AMT_ANNUITY  \\\n",
            "0               Y             0          202500.0    406597.5      24700.5   \n",
            "1               N             0          270000.0   1293502.5      35698.5   \n",
            "2               Y             0           67500.0    135000.0       6750.0   \n",
            "3               Y             0          135000.0    312682.5      29686.5   \n",
            "4               Y             0          121500.0    513000.0      21865.5   \n",
            "\n",
            "   ...  FLAG_DOCUMENT_18 FLAG_DOCUMENT_19 FLAG_DOCUMENT_20 FLAG_DOCUMENT_21  \\\n",
            "0  ...                 0                0                0                0   \n",
            "1  ...                 0                0                0                0   \n",
            "2  ...                 0                0                0                0   \n",
            "3  ...                 0                0                0                0   \n",
            "4  ...                 0                0                0                0   \n",
            "\n",
            "  AMT_REQ_CREDIT_BUREAU_HOUR AMT_REQ_CREDIT_BUREAU_DAY  \\\n",
            "0                        0.0                       0.0   \n",
            "1                        0.0                       0.0   \n",
            "2                        0.0                       0.0   \n",
            "3                        NaN                       NaN   \n",
            "4                        0.0                       0.0   \n",
            "\n",
            "   AMT_REQ_CREDIT_BUREAU_WEEK  AMT_REQ_CREDIT_BUREAU_MON  \\\n",
            "0                         0.0                        0.0   \n",
            "1                         0.0                        0.0   \n",
            "2                         0.0                        0.0   \n",
            "3                         NaN                        NaN   \n",
            "4                         0.0                        0.0   \n",
            "\n",
            "   AMT_REQ_CREDIT_BUREAU_QRT  AMT_REQ_CREDIT_BUREAU_YEAR  \n",
            "0                        0.0                         1.0  \n",
            "1                        0.0                         0.0  \n",
            "2                        0.0                         0.0  \n",
            "3                        NaN                         NaN  \n",
            "4                        0.0                         0.0  \n",
            "\n",
            "[5 rows x 122 columns]\n"
          ],
          "name": "stdout"
        }
      ]
    },
    {
      "metadata": {
        "id": "Y2zWe6oLUCee",
        "colab_type": "code",
        "colab": {
          "base_uri": "https://localhost:8080/",
          "height": 187
        },
        "outputId": "f861fa59-f87f-48c2-e499-29a6185fab8d"
      },
      "cell_type": "code",
      "source": [
        "print(app_train.columns)"
      ],
      "execution_count": 23,
      "outputs": [
        {
          "output_type": "stream",
          "text": [
            "Index(['SK_ID_CURR', 'TARGET', 'NAME_CONTRACT_TYPE', 'CODE_GENDER',\n",
            "       'FLAG_OWN_CAR', 'FLAG_OWN_REALTY', 'CNT_CHILDREN', 'AMT_INCOME_TOTAL',\n",
            "       'AMT_CREDIT', 'AMT_ANNUITY',\n",
            "       ...\n",
            "       'FLAG_DOCUMENT_18', 'FLAG_DOCUMENT_19', 'FLAG_DOCUMENT_20',\n",
            "       'FLAG_DOCUMENT_21', 'AMT_REQ_CREDIT_BUREAU_HOUR',\n",
            "       'AMT_REQ_CREDIT_BUREAU_DAY', 'AMT_REQ_CREDIT_BUREAU_WEEK',\n",
            "       'AMT_REQ_CREDIT_BUREAU_MON', 'AMT_REQ_CREDIT_BUREAU_QRT',\n",
            "       'AMT_REQ_CREDIT_BUREAU_YEAR'],\n",
            "      dtype='object', length=122)\n"
          ],
          "name": "stdout"
        }
      ]
    },
    {
      "metadata": {
        "id": "BK77BG7cXMS2",
        "colab_type": "code",
        "colab": {}
      },
      "cell_type": "code",
      "source": [
        "#print(app_train.mean())"
      ],
      "execution_count": 0,
      "outputs": []
    },
    {
      "metadata": {
        "id": "qW2kBFxqXUdy",
        "colab_type": "code",
        "colab": {}
      },
      "cell_type": "code",
      "source": [
        "print(app_train.AMT_INCOME_TOTAL.mean())\n",
        "print(app_train.AMT_INCOME_TOTAL.std())\n",
        "print(app_train.AMT_INCOME_TOTAL.describe())"
      ],
      "execution_count": 0,
      "outputs": []
    },
    {
      "metadata": {
        "id": "Td0aaD87YHf5",
        "colab_type": "code",
        "outputId": "c905fc4d-fcdd-402e-bddb-26f37a3c72a4",
        "colab": {
          "base_uri": "https://localhost:8080/",
          "height": 170
        }
      },
      "cell_type": "code",
      "source": [
        "print(app_train.CNT_CHILDREN.describe())"
      ],
      "execution_count": 9,
      "outputs": [
        {
          "output_type": "stream",
          "text": [
            "count    307511.000000\n",
            "mean          0.417052\n",
            "std           0.722121\n",
            "min           0.000000\n",
            "25%           0.000000\n",
            "50%           0.000000\n",
            "75%           1.000000\n",
            "max          19.000000\n",
            "Name: CNT_CHILDREN, dtype: float64\n"
          ],
          "name": "stdout"
        }
      ]
    },
    {
      "metadata": {
        "id": "3xAKHcgzZCSA",
        "colab_type": "code",
        "outputId": "b566663e-9502-49d1-cbc8-b8ab7ff3c723",
        "colab": {
          "base_uri": "https://localhost:8080/",
          "height": 282
        }
      },
      "cell_type": "code",
      "source": [
        "\n",
        "plt.hist(app_train.AMT_INCOME_TOTAL,bins=100)\n",
        "\n",
        "\n",
        "plt.show()"
      ],
      "execution_count": 25,
      "outputs": [
        {
          "output_type": "display_data",
          "data": {
            "image/png": "[encoded data removed]",
            "text/plain": [
              "<Figure size 432x288 with 1 Axes>"
            ]
          },
          "metadata": {
            "tags": []
          }
        }
      ]
    },
    {
      "metadata": {
        "id": "Aypd5GdgZfto",
        "colab_type": "code",
        "colab": {
          "base_uri": "https://localhost:8080/",
          "height": 269
        },
        "outputId": "f5162440-67ac-4e9b-f6c6-e4a2b639e006"
      },
      "cell_type": "code",
      "source": [
        "plt.hist(app_train.CNT_CHILDREN,range=(0,20),bins=10)\n",
        "plt.show()"
      ],
      "execution_count": 26,
      "outputs": [
        {
          "output_type": "display_data",
          "data": {
            "image/png": "[encoded data removed]",
            "text/plain": [
              "<Figure size 432x288 with 1 Axes>"
            ]
          },
          "metadata": {
            "tags": []
          }
        }
      ]
    },
    {
      "metadata": {
        "id": "_p67or9VUP4-",
        "colab_type": "code",
        "colab": {}
      },
      "cell_type": "code",
      "source": [
        ""
      ],
      "execution_count": 0,
      "outputs": []
    }
  ]
}