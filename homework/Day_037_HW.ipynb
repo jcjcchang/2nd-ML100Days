{
  "nbformat": 4,
  "nbformat_minor": 0,
  "metadata": {
    "colab": {
      "name": "Day_037_HW.ipynb",
      "version": "0.3.2",
      "provenance": [],
      "include_colab_link": true
    },
    "language_info": {
      "codemirror_mode": {
        "name": "ipython",
        "version": 3
      },
      "file_extension": ".py",
      "mimetype": "text/x-python",
      "name": "python",
      "nbconvert_exporter": "python",
      "pygments_lexer": "ipython3",
      "version": "3.6.2"
    },
    "kernelspec": {
      "display_name": "Python 3",
      "language": "python",
      "name": "python3"
    }
  },
  "cells": [
    {
      "cell_type": "markdown",
      "metadata": {
        "id": "view-in-github",
        "colab_type": "text"
      },
      "source": [
        "<a href=\"https://colab.research.google.com/github/jcjcchang/2nd-ML100Days/blob/master/homework/Day_037_HW.ipynb\" target=\"_parent\"><img src=\"https://colab.research.google.com/assets/colab-badge.svg\" alt=\"Open In Colab\"/></a>"
      ]
    },
    {
      "cell_type": "markdown",
      "metadata": {
        "id": "KBVma9zahFzD",
        "colab_type": "text"
      },
      "source": [
        "## [作業重點]\n",
        "了解線性回歸的模型發展歷程，並了解優勢與劣勢，以及其使用情境"
      ]
    },
    {
      "cell_type": "markdown",
      "metadata": {
        "id": "cpoaTFXRhFzG",
        "colab_type": "text"
      },
      "source": [
        "## 作業"
      ]
    },
    {
      "cell_type": "markdown",
      "metadata": {
        "id": "vZpkaHuYhFzH",
        "colab_type": "text"
      },
      "source": [
        "請閱讀以下相關文獻，並回答以下問題\n",
        "\n",
        "[Linear Regression 詳細介紹](https://brohrer.mcknote.com/zh-Hant/how_machine_learning_works/how_linear_regression_works.html)\n",
        "\n",
        "[Logistics Regression 詳細介紹](https://medium.com/@yehjames/%E8%B3%87%E6%96%99%E5%88%86%E6%9E%90-%E6%A9%9F%E5%99%A8%E5%AD%B8%E7%BF%92-%E7%AC%AC3-3%E8%AC%9B-%E7%B7%9A%E6%80%A7%E5%88%86%E9%A1%9E-%E9%82%8F%E8%BC%AF%E6%96%AF%E5%9B%9E%E6%AD%B8-logistic-regression-%E4%BB%8B%E7%B4%B9-a1a5f47017e5)\n"
      ]
    },
    {
      "cell_type": "markdown",
      "metadata": {
        "id": "Qoiybc5XhFzI",
        "colab_type": "text"
      },
      "source": [
        "1. 線性回歸模型能夠準確預測非線性關係的資料集嗎?\n",
        "2. 回歸模型是否對資料分布有基本假設?\n"
      ]
    },
    {
      "cell_type": "markdown",
      "metadata": {
        "id": "Mw8ZWYiDisvc",
        "colab_type": "text"
      },
      "source": [
        "1. 無法\n",
        "2. Binolia 分佈"
      ]
    },
    {
      "cell_type": "code",
      "metadata": {
        "id": "7q1X4doZhFzK",
        "colab_type": "code",
        "colab": {}
      },
      "source": [
        ""
      ],
      "execution_count": 0,
      "outputs": []
    },
    {
      "cell_type": "code",
      "metadata": {
        "id": "DbUfPJ19isS7",
        "colab_type": "code",
        "colab": {}
      },
      "source": [
        ""
      ],
      "execution_count": 0,
      "outputs": []
    }
  ]
}