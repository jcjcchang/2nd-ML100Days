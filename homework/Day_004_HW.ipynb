{
  "nbformat": 4,
  "nbformat_minor": 0,
  "metadata": {
    "colab": {
      "name": "Day_004_HW.ipynb",
      "version": "0.3.2",
      "provenance": [],
      "include_colab_link": true
    },
    "language_info": {
      "codemirror_mode": {
        "name": "ipython",
        "version": 3
      },
      "file_extension": ".py",
      "mimetype": "text/x-python",
      "name": "python",
      "nbconvert_exporter": "python",
      "pygments_lexer": "ipython3",
      "version": "3.6.1"
    },
    "kernelspec": {
      "display_name": "Python 3",
      "language": "python",
      "name": "python3"
    }
  },
  "cells": [
    {
      "cell_type": "markdown",
      "metadata": {
        "id": "view-in-github",
        "colab_type": "text"
      },
      "source": [
        "<a href=\"https://colab.research.google.com/github/jcjcchang/2nd-ML100Days/blob/master/homework/Day_004_HW.ipynb\" target=\"_parent\"><img src=\"https://colab.research.google.com/assets/colab-badge.svg\" alt=\"Open In Colab\"/></a>"
      ]
    },
    {
      "metadata": {
        "colab_type": "code",
        "id": "lh9gyloHVblR",
        "colab": {}
      },
      "cell_type": "code",
      "source": [
        "import os\n",
        "import numpy as np\n",
        "import pandas as pd"
      ],
      "execution_count": 0,
      "outputs": []
    },
    {
      "metadata": {
        "colab_type": "code",
        "id": "z4iLB9cKVblV",
        "colab": {}
      },
      "cell_type": "code",
      "source": [
        "# 設定 data_path, 並讀取 app_train\n",
        "#dir_data = './data/'\n",
        "#f_app_train = os.path.join(dir_data, 'application_train.csv')\n",
        "#app_train = pd.read_csv(f_app_train)\n",
        "app_train = pd.read_csv('application_train.csv')"
      ],
      "execution_count": 0,
      "outputs": []
    },
    {
      "metadata": {
        "colab_type": "code",
        "id": "d5IeEcPVVblq",
        "colab": {}
      },
      "cell_type": "code",
      "source": [
        "## 作業\n",
        "將下列部分資料片段 sub_train 使用 One Hot encoding, 並觀察轉換前後的欄位數量 (使用 shape) 與欄位名稱 (使用 head) 變化"
      ],
      "execution_count": 0,
      "outputs": []
    },
    {
      "metadata": {
        "id": "7mokNvMn71Z-",
        "colab_type": "code",
        "outputId": "a8a8b917-e56e-483b-c2c8-a34b637e6c02",
        "colab": {
          "base_uri": "https://localhost:8080/",
          "height": 139
        }
      },
      "cell_type": "code",
      "source": [
        "sub_train = pd.DataFrame(app_train['WEEKDAY_APPR_PROCESS_START'])\n",
        "print(sub_train.shape)\n",
        "print(sub_train.head())"
      ],
      "execution_count": 3,
      "outputs": [
        {
          "output_type": "stream",
          "text": [
            "(232985, 1)\n",
            "  WEEKDAY_APPR_PROCESS_START\n",
            "0                  WEDNESDAY\n",
            "1                     MONDAY\n",
            "2                     MONDAY\n",
            "3                  WEDNESDAY\n",
            "4                   THURSDAY\n"
          ],
          "name": "stdout"
        }
      ]
    },
    {
      "metadata": {
        "id": "7oTCmsb-71aE",
        "colab_type": "code",
        "colab": {}
      },
      "cell_type": "code",
      "source": [
        "print(app_train.dtypes)\n",
        "print(app_train.dtypes.value_counts())\n",
        "\n",
        "\"\"\"\n",
        "Your Code Here\n",
        "\"\"\""
      ],
      "execution_count": 0,
      "outputs": []
    },
    {
      "metadata": {
        "id": "4fBOVkwK-k3Q",
        "colab_type": "code",
        "colab": {}
      },
      "cell_type": "code",
      "source": [
        "app_train.select_dtypes(include=[\"object\"]).apply(pd.Series.nunique, axis = 0)"
      ],
      "execution_count": 0,
      "outputs": []
    },
    {
      "metadata": {
        "id": "SNrKrl58-x5u",
        "colab_type": "code",
        "colab": {}
      },
      "cell_type": "code",
      "source": [
        "app_train.select_dtypes(include=[\"int64\"]).apply(pd.Series.nunique, axis = 0)"
      ],
      "execution_count": 0,
      "outputs": []
    },
    {
      "metadata": {
        "id": "YiFJ7Fs2Tw9d",
        "colab_type": "code",
        "colab": {
          "base_uri": "https://localhost:8080/",
          "height": 503
        },
        "outputId": "78417b51-34ef-46d3-9364-3fa41f907ea6"
      },
      "cell_type": "code",
      "source": [
        "sub_train = pd.get_dummies(sub_train)\n",
        "\n",
        "\n",
        "\n",
        "print(sub_train.shape)\n",
        "print(sub_train.head())"
      ],
      "execution_count": 5,
      "outputs": [
        {
          "output_type": "stream",
          "text": [
            "(232985, 7)\n",
            "   WEEKDAY_APPR_PROCESS_START_FRIDAY  WEEKDAY_APPR_PROCESS_START_MONDAY  \\\n",
            "0                                  0                                  0   \n",
            "1                                  0                                  1   \n",
            "2                                  0                                  1   \n",
            "3                                  0                                  0   \n",
            "4                                  0                                  0   \n",
            "\n",
            "   WEEKDAY_APPR_PROCESS_START_SATURDAY  WEEKDAY_APPR_PROCESS_START_SUNDAY  \\\n",
            "0                                    0                                  0   \n",
            "1                                    0                                  0   \n",
            "2                                    0                                  0   \n",
            "3                                    0                                  0   \n",
            "4                                    0                                  0   \n",
            "\n",
            "   WEEKDAY_APPR_PROCESS_START_THURSDAY  WEEKDAY_APPR_PROCESS_START_TUESDAY  \\\n",
            "0                                    0                                   0   \n",
            "1                                    0                                   0   \n",
            "2                                    0                                   0   \n",
            "3                                    0                                   0   \n",
            "4                                    1                                   0   \n",
            "\n",
            "   WEEKDAY_APPR_PROCESS_START_WEDNESDAY  \n",
            "0                                     1  \n",
            "1                                     0  \n",
            "2                                     0  \n",
            "3                                     1  \n",
            "4                                     0  \n"
          ],
          "name": "stdout"
        }
      ]
    },
    {
      "metadata": {
        "id": "dpBrQ4GM-3nY",
        "colab_type": "code",
        "colab": {
          "base_uri": "https://localhost:8080/",
          "height": 35
        },
        "outputId": "280625aa-f167-4834-ab5e-b6658d63b2a2"
      },
      "cell_type": "code",
      "source": [
        "from sklearn.preprocessing import LabelEncoder\n",
        "\n",
        "# Create a label encoder object\n",
        "le = LabelEncoder()\n",
        "le_count = 0\n",
        "\n",
        "# Iterate through the columns\n",
        "for col in sub_train:\n",
        "    if sub_train[col].dtype == 'object':\n",
        "        # If 2 or fewer unique categories\n",
        "        if len(list(sub_train[col].unique())) <= 2:\n",
        "            # Train on the training data\n",
        "            le.fit(sub_train[col])\n",
        "            # Transform both training and testing data\n",
        "            sub_train[col] = le.transform(sub_train[col])\n",
        "            sub_test[col] = le.transform(sub_test[col])\n",
        "            \n",
        "            # Keep track of how many columns were label encoded\n",
        "            le_count += 1\n",
        "            \n",
        "print('%d columns were label encoded.' % le_count)"
      ],
      "execution_count": 6,
      "outputs": [
        {
          "output_type": "stream",
          "text": [
            "0 columns were label encoded.\n"
          ],
          "name": "stdout"
        }
      ]
    },
    {
      "metadata": {
        "id": "XEkTTRcdWd5X",
        "colab_type": "code",
        "colab": {}
      },
      "cell_type": "code",
      "source": [
        ""
      ],
      "execution_count": 0,
      "outputs": []
    }
  ]
}