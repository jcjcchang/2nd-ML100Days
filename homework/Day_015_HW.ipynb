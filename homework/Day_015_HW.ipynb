{
  "nbformat": 4,
  "nbformat_minor": 0,
  "metadata": {
    "colab": {
      "name": "Day_015_HW.ipynb",
      "version": "0.3.2",
      "provenance": [],
      "include_colab_link": true
    },
    "language_info": {
      "codemirror_mode": {
        "name": "ipython",
        "version": 3
      },
      "file_extension": ".py",
      "mimetype": "text/x-python",
      "name": "python",
      "nbconvert_exporter": "python",
      "pygments_lexer": "ipython3",
      "version": "3.6.1"
    },
    "kernelspec": {
      "display_name": "Python 3",
      "language": "python",
      "name": "python3"
    }
  },
  "cells": [
    {
      "cell_type": "markdown",
      "metadata": {
        "id": "view-in-github",
        "colab_type": "text"
      },
      "source": [
        "<a href=\"https://colab.research.google.com/github/jcjcchang/2nd-ML100Days/blob/master/homework/Day_015_HW.ipynb\" target=\"_parent\"><img src=\"https://colab.research.google.com/assets/colab-badge.svg\" alt=\"Open In Colab\"/></a>"
      ]
    },
    {
      "cell_type": "markdown",
      "metadata": {
        "id": "kUf-azfzhrBD",
        "colab_type": "text"
      },
      "source": [
        "## 作業\n",
        "1. 請用 numpy 建立一個 10 x 10, 數值分布自 -1.0 ~ 1.0 的矩陣並繪製 Heatmap\n",
        "2. 請用 numpy 建立一個 1000 x 3, 數值分布為 -1.0 ~ 1.0 的矩陣，並繪製 PairPlot (上半部為 scatter, 對角線為 hist, 下半部為 density)\n",
        "3. 請用 numpy 建立一個 1000 x 3, 數值分布為常態分佈的矩陣，並繪製 PairPlot (上半部為 scatter, 對角線為 hist, 下半部為 density)"
      ]
    },
    {
      "cell_type": "markdown",
      "metadata": {
        "collapsed": true,
        "id": "DIfTIIizhrBK",
        "colab_type": "text"
      },
      "source": [
        "# [作業目標]\n",
        "- 試著設定隨機資料, 並依照範例練習基礎與進階的 Heatmap"
      ]
    },
    {
      "cell_type": "markdown",
      "metadata": {
        "collapsed": true,
        "id": "dYPyY5QZhrBN",
        "colab_type": "text"
      },
      "source": [
        "# [作業重點]\n",
        "- 如題1.條件隨機矩陣, 並仿造基礎 Heatmap 範例作圖   \n",
        "(In[2], OUT[2]) (Hint : numpy.random.random - 均勻分布, 隨機小數)\n",
        "- 如題2.3.條件隨機數值列, 並仿造進階 Heatmap 範例作圖  \n",
        "(In[3], OUT[3], In[4], OUT[4]) (Hint : numpy.random.randn - 常態分布)"
      ]
    },
    {
      "cell_type": "code",
      "metadata": {
        "id": "SfIjo-uqhrBO",
        "colab_type": "code",
        "colab": {}
      },
      "source": [
        "# 載入需要的套件\n",
        "import os\n",
        "import numpy as np\n",
        "import pandas as pd\n",
        "import matplotlib.pyplot as plt\n",
        "import seaborn as sns # 另一個繪圖-樣式套件\n",
        "plt.style.use('ggplot')\n",
        "\n",
        "# 忽略警告訊息\n",
        "%matplotlib inline\n",
        "import warnings\n",
        "warnings.filterwarnings('ignore')"
      ],
      "execution_count": 0,
      "outputs": []
    },
    {
      "cell_type": "code",
      "metadata": {
        "id": "aY8I_g8ZhrBW",
        "colab_type": "code",
        "colab": {
          "base_uri": "https://localhost:8080/",
          "height": 595
        },
        "outputId": "6141589c-cfc1-476c-859e-62aa136c916f"
      },
      "source": [
        "\"\"\"\n",
        "Your Code Here\n",
        "\"\"\"\n",
        "\n",
        "\n",
        "matrix = np.ones((10,10))\n",
        "\n",
        "for i in range(10):\n",
        "  matrix[i] = matrix[i] * (np.random.random_sample(10)*2-1)\n",
        "  \n",
        "plt.figure(figsize=(10,10))\n",
        "\"\"\"\n",
        "Your Code Here\n",
        "\"\"\"\n",
        "heatmap = sns.heatmap(matrix)\n",
        "plt.show()"
      ],
      "execution_count": 42,
      "outputs": [
        {
          "output_type": "display_data",
          "data": {
            "image/png": "[encoded data removed]",
            "text/plain": [
              "<Figure size 720x720 with 2 Axes>"
            ]
          },
          "metadata": {
            "tags": []
          }
        }
      ]
    },
    {
      "cell_type": "code",
      "metadata": {
        "id": "Hj9Tsf8IhrBf",
        "colab_type": "code",
        "colab": {}
      },
      "source": [
        "nrow = 1000\n",
        "ncol = 3\n",
        "\"\"\"\n",
        "Your Code Here\n",
        "\"\"\"\n",
        "matrix = np.ones((1000,3))\n",
        "\n",
        "# 隨機給予 0, 1, 2 三種標籤\n",
        "indice = np.random.choice([0,1,2], size=nrow)\n",
        "plot_data = pd.DataFrame(matrix, indice).reset_index()\n",
        "\n",
        "# 繪製 seborn 進階 Heatmap\n",
        "grid = sns.PairGrid(data = plot_data, size = 3, diag_sharey=False, \n",
        "                    hue = 'index', vars = [x for x in list(plot_data.columns) if x != 'index'])\n",
        "\"\"\"\n",
        "Your Code Here\n",
        "Please replace \"...\" to correct plot function\n",
        "\"\"\"\n",
        "grid.map_upper(... , alpha = 0.2)\n",
        "grid.map_diag(... )\n",
        "grid.map_lower(... , cmap = plt.cm.OrRd_r)\n",
        "\n",
        "plt.show()"
      ],
      "execution_count": 0,
      "outputs": []
    },
    {
      "cell_type": "code",
      "metadata": {
        "id": "bKaA8lNThrCE",
        "colab_type": "code",
        "colab": {}
      },
      "source": [
        "nrow = 1000\n",
        "ncol = 3\n",
        "\"\"\"\n",
        "Your Code Here\n",
        "\"\"\"\n",
        "matrix = \n",
        "\n",
        "# 隨機給予 0, 1, 2 三種標籤\n",
        "indice = np.random.choice([0,1,2], size=nrow)\n",
        "plot_data = pd.DataFrame(matrix, indice).reset_index()\n",
        "\n",
        "# 繪製 seborn 進階 Heatmap\n",
        "grid = sns.PairGrid(data = plot_data, size = 3, diag_sharey=False,\n",
        "                    hue = 'index', vars = [x for x in list(plot_data.columns) if x != 'index'])\n",
        "\"\"\"\n",
        "Your Code Here\n",
        "Please replace \"...\" to correct plot function\n",
        "\"\"\"\n",
        "grid.map_upper(... , alpha = 0.2)\n",
        "grid.map_diag(... )\n",
        "grid.map_lower(... , cmap = plt.cm.OrRd_r)\n",
        "\n",
        "plt.show()"
      ],
      "execution_count": 0,
      "outputs": []
    },
    {
      "cell_type": "code",
      "metadata": {
        "id": "arm5rDCGhrCn",
        "colab_type": "code",
        "colab": {}
      },
      "source": [
        ""
      ],
      "execution_count": 0,
      "outputs": []
    }
  ]
}