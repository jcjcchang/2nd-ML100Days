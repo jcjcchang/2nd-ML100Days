{
  "nbformat": 4,
  "nbformat_minor": 0,
  "metadata": {
    "kernelspec": {
      "display_name": "Python 3",
      "language": "python",
      "name": "python3"
    },
    "language_info": {
      "codemirror_mode": {
        "name": "ipython",
        "version": 3
      },
      "file_extension": ".py",
      "mimetype": "text/x-python",
      "name": "python",
      "nbconvert_exporter": "python",
      "pygments_lexer": "ipython3",
      "version": "3.6.1"
    },
    "colab": {
      "name": "Day_060_PCA_HW.ipynb",
      "version": "0.3.2",
      "provenance": [],
      "include_colab_link": true
    }
  },
  "cells": [
    {
      "cell_type": "markdown",
      "metadata": {
        "id": "view-in-github",
        "colab_type": "text"
      },
      "source": [
        "<a href=\"https://colab.research.google.com/github/jcjcchang/2nd-ML100Days/blob/master/homework/Day_060_PCA_HW.ipynb\" target=\"_parent\"><img src=\"https://colab.research.google.com/assets/colab-badge.svg\" alt=\"Open In Colab\"/></a>"
      ]
    },
    {
      "cell_type": "markdown",
      "metadata": {
        "id": "FPSSoWrVJZYa",
        "colab_type": "text"
      },
      "source": [
        "# 使用手寫辨識資料集, 觀察 PCA 算法"
      ]
    },
    {
      "cell_type": "markdown",
      "metadata": {
        "id": "WxzzMO8wJZYb",
        "colab_type": "text"
      },
      "source": [
        "# [作業目標]\n",
        "- 試著模仿範例寫法, 以變更參數後的 PCA + 邏輯斯迴歸判斷手寫辨識資料集, 觀察不同 component 下正確率的變化"
      ]
    },
    {
      "cell_type": "markdown",
      "metadata": {
        "id": "KWIX4jG9JZYc",
        "colab_type": "text"
      },
      "source": [
        "# [作業重點]\n",
        "- 以手寫辨識資料集, 觀察變更參數後的 PCA 算法, 在取不同 component 時, PCA 解釋度與分類正確率如何變化 (In[5], Out[5])"
      ]
    },
    {
      "cell_type": "code",
      "metadata": {
        "id": "Rt3lUdDhJZYd",
        "colab_type": "code",
        "colab": {}
      },
      "source": [
        "# 載入套件\n",
        "import numpy as np\n",
        "import matplotlib.pyplot as plt\n",
        "import pandas as pd\n",
        "\n",
        "from sklearn import datasets\n",
        "from sklearn.decomposition import PCA\n",
        "from sklearn.linear_model import SGDClassifier\n",
        "from sklearn.pipeline import Pipeline\n",
        "from sklearn.model_selection import GridSearchCV\n",
        "import warnings\n",
        "warnings.filterwarnings(\"ignore\")"
      ],
      "execution_count": 0,
      "outputs": []
    },
    {
      "cell_type": "code",
      "metadata": {
        "id": "rTCNDAc_JZYg",
        "colab_type": "code",
        "colab": {}
      },
      "source": [
        "# 定義 PCA 與隨後的羅吉斯迴歸函數\n",
        "# penalty 改為 L1, max_iter 改為 100\n",
        "logistic = SGDClassifier(loss='log', penalty='L1', max_iter=100, tol=1e-5, random_state=0)\n",
        "pca = PCA()\n",
        "pipe = Pipeline(steps=[('pca', pca), ('logistic', logistic)])\n",
        "\n",
        "# 載入手寫數字辨識集\n",
        "digits = datasets.load_digits()\n",
        "X_digits = digits.data\n",
        "y_digits = digits.target"
      ],
      "execution_count": 0,
      "outputs": []
    },
    {
      "cell_type": "code",
      "metadata": {
        "id": "8BNiIokvL4Rc",
        "colab_type": "code",
        "colab": {
          "base_uri": "https://localhost:8080/",
          "height": 51
        },
        "outputId": "79dea43c-e5e5-4d80-eb98-dc30344f0d41"
      },
      "source": [
        "# 先執行 GridSearchCV 跑出最佳參數\n",
        "param_grid = {\n",
        "    'pca__n_components': [4, 10, 20, 30, 40, 50, 64],\n",
        "    'logistic__alpha': np.logspace(-4, 4, 5),\n",
        "}\n",
        "search = GridSearchCV(pipe, param_grid, iid=False, cv=5, return_train_score=False)\n",
        "search.fit(X_digits, y_digits)\n",
        "print(\"Best parameter (CV score=%0.3f):\" % search.best_score_)\n",
        "print(search.best_params_)"
      ],
      "execution_count": 26,
      "outputs": [
        {
          "output_type": "stream",
          "text": [
            "Best parameter (CV score=0.911):\n",
            "{'logistic__alpha': 0.01, 'pca__n_components': 30}\n"
          ],
          "name": "stdout"
        }
      ]
    },
    {
      "cell_type": "markdown",
      "metadata": {
        "id": "WVG3lXmGJZYi",
        "colab_type": "text"
      },
      "source": [
        "# 作業\n",
        "* 將參數 penalty 改為 L1, max_iter 改為 100, 觀察 PCA 與羅吉斯迴歸做手寫辨識的效果"
      ]
    },
    {
      "cell_type": "code",
      "metadata": {
        "id": "-mSmyiDiJZYi",
        "colab_type": "code",
        "colab": {}
      },
      "source": [
        "# 先執行 GridSearchCV 跑出最佳參數\n",
        "param_grid = {\n",
        "    'pca__n_components': [4, 8, 16, 32, 64],\n",
        "    'logistic__alpha':np.logspace(-4,4,5),\n",
        "}\n",
        "search = GridSearchCV(pipe, param_grid, iid=False, cv=5, return_train_score=False)\n",
        "#search.fit(X_digits, y_digits)\n",
        "search.fit(X_digits, y_digits)\n"
      ],
      "execution_count": 0,
      "outputs": []
    },
    {
      "cell_type": "code",
      "metadata": {
        "id": "ICfjlQhxNBU4",
        "colab_type": "code",
        "colab": {
          "base_uri": "https://localhost:8080/",
          "height": 51
        },
        "outputId": "c1ae7c94-0f55-4d10-f9ae-28fc07002115"
      },
      "source": [
        "print(search.best_score_)\n",
        "print(search.best_params_)"
      ],
      "execution_count": 21,
      "outputs": [
        {
          "output_type": "stream",
          "text": [
            "0.9093794541571132\n",
            "{'logistic__alpha': 0.0001, 'pca__n_components': 32}\n"
          ],
          "name": "stdout"
        }
      ]
    },
    {
      "cell_type": "code",
      "metadata": {
        "id": "SoIBqN2uJZYk",
        "colab_type": "code",
        "colab": {
          "base_uri": "https://localhost:8080/",
          "height": 441
        },
        "outputId": "324e1bb9-3099-4808-9c85-f814df82f986"
      },
      "source": [
        "# 繪製不同 components 的 PCA 解釋度\n",
        "pca.fit(X_digits)\n",
        "\n",
        "fig, (ax0,ax1) = plt.subplots(nrows =2 ,sharex=True,figsize = (6,6))\n",
        "ax0.plot(pca.explained_variance_ratio_, linewidth=2)\n",
        "ax0.set_ylabel('PCA explained variance')\n",
        "\n",
        "ax0.axvline(search.best_estimator_.named_steps['pca'].n_components, linestyle=':', label='n_components chosen')\n",
        "ax0.legend(prop=dict(size=12))\n",
        "\n",
        "# 繪製不同採樣點的分類正確率\n",
        "results = pd.DataFrame(search.cv_results_)\n",
        "components_col = 'param_pca__n_components'\n",
        "best_clfs = results.groupby(components_col).apply(lambda g: g.nlargest(1, 'mean_test_score'))\n",
        "\n",
        "best_clfs.plot(x=components_col, y='mean_test_score', yerr='std_test_score', legend=False, ax=ax1)\n",
        "ax1.set_ylabel('Classification accuracy (val)')\n",
        "ax1.set_xlabel('n_components')\n",
        "plt.tight_layout()\n",
        "plt.show()"
      ],
      "execution_count": 27,
      "outputs": [
        {
          "output_type": "display_data",
          "data": {
            "image/png": "[encoded data removed]",
            "text/plain": [
              "<Figure size 432x432 with 2 Axes>"
            ]
          },
          "metadata": {
            "tags": []
          }
        }
      ]
    },
    {
      "cell_type": "code",
      "metadata": {
        "id": "Zz_DnkO-JZYm",
        "colab_type": "code",
        "colab": {}
      },
      "source": [
        "# 繪製不同採樣點的分類正確率\n"
      ],
      "execution_count": 0,
      "outputs": []
    },
    {
      "cell_type": "code",
      "metadata": {
        "id": "HU0CiR4dJZYp",
        "colab_type": "code",
        "colab": {}
      },
      "source": [
        ""
      ],
      "execution_count": 0,
      "outputs": []
    }
  ]
}