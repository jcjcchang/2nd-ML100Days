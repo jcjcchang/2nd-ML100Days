{
 "cells": [
  {
   "cell_type": "markdown",
   "metadata": {},
   "source": [
    "## Work\n",
    "1. 試比較 save_best_only 與否的差異\n",
    "2. 請僅存入將 save_weights_only 設定為 True, 並嘗試 reset ipynb 並將模型與權重重新建回並預測 x_test"
   ]
  },
  {
   "cell_type": "code",
   "execution_count": 1,
   "metadata": {},
   "outputs": [
    {
     "name": "stderr",
     "output_type": "stream",
     "text": [
      "Using TensorFlow backend.\n"
     ]
    }
   ],
   "source": [
    "import os\n",
    "import keras\n",
    "\n",
    "# Disable GPU\n",
    "os.environ[\"CUDA_VISIBLE_DEVICES\"] = \"\""
   ]
  },
  {
   "cell_type": "code",
   "execution_count": 2,
   "metadata": {},
   "outputs": [],
   "source": [
    "train, test = keras.datasets.cifar10.load_data()"
   ]
  },
  {
   "cell_type": "code",
   "execution_count": 3,
   "metadata": {},
   "outputs": [],
   "source": [
    "## 資料前處理\n",
    "def preproc_x(x, flatten=True):\n",
    "    x = x / 255.\n",
    "    if flatten:\n",
    "        x = x.reshape((len(x), -1))\n",
    "    return x\n",
    "\n",
    "def preproc_y(y, num_classes=10):\n",
    "    if y.shape[-1] == 1:\n",
    "        y = keras.utils.to_categorical(y, num_classes)\n",
    "    return y    "
   ]
  },
  {
   "cell_type": "code",
   "execution_count": 4,
   "metadata": {},
   "outputs": [],
   "source": [
    "x_train, y_train = train\n",
    "x_test, y_test = test\n",
    "\n",
    "# Preproc the inputs\n",
    "x_train = preproc_x(x_train)\n",
    "x_test = preproc_x(x_test)\n",
    "\n",
    "# Preprc the outputs\n",
    "y_train = preproc_y(y_train)\n",
    "y_test = preproc_y(y_test)"
   ]
  },
  {
   "cell_type": "code",
   "execution_count": 5,
   "metadata": {},
   "outputs": [],
   "source": [
    "from keras.layers import BatchNormalization\n",
    "\n",
    "def build_mlp(input_shape, output_units=10, num_neurons=[512, 256, 128]):\n",
    "    input_layer = keras.layers.Input(input_shape)\n",
    "    \n",
    "    for i, n_units in enumerate(num_neurons):\n",
    "        if i == 0:\n",
    "            x = keras.layers.Dense(units=n_units, \n",
    "                                   activation=\"relu\", \n",
    "                                   name=\"hidden_layer\"+str(i+1))(input_layer)\n",
    "            x = BatchNormalization()(x)\n",
    "        else:\n",
    "            x = keras.layers.Dense(units=n_units, \n",
    "                                   activation=\"relu\", \n",
    "                                   name=\"hidden_layer\"+str(i+1))(x)\n",
    "            x = BatchNormalization()(x)\n",
    "    \n",
    "    out = keras.layers.Dense(units=output_units, activation=\"softmax\", name=\"output\")(x)\n",
    "    \n",
    "    model = keras.models.Model(inputs=[input_layer], outputs=[out])\n",
    "    return model"
   ]
  },
  {
   "cell_type": "code",
   "execution_count": 6,
   "metadata": {},
   "outputs": [],
   "source": [
    "## 超參數設定\n",
    "LEARNING_RATE = 1e-3\n",
    "EPOCHS = 50\n",
    "BATCH_SIZE = 1024\n",
    "MOMENTUM = 0.95"
   ]
  },
  {
   "cell_type": "code",
   "execution_count": 23,
   "metadata": {},
   "outputs": [
    {
     "name": "stdout",
     "output_type": "stream",
     "text": [
      "Model: \"model_5\"\n",
      "_________________________________________________________________\n",
      "Layer (type)                 Output Shape              Param #   \n",
      "=================================================================\n",
      "input_5 (InputLayer)         (None, 3072)              0         \n",
      "_________________________________________________________________\n",
      "hidden_layer1 (Dense)        (None, 512)               1573376   \n",
      "_________________________________________________________________\n",
      "batch_normalization_13 (Batc (None, 512)               2048      \n",
      "_________________________________________________________________\n",
      "hidden_layer2 (Dense)        (None, 256)               131328    \n",
      "_________________________________________________________________\n",
      "batch_normalization_14 (Batc (None, 256)               1024      \n",
      "_________________________________________________________________\n",
      "hidden_layer3 (Dense)        (None, 128)               32896     \n",
      "_________________________________________________________________\n",
      "batch_normalization_15 (Batc (None, 128)               512       \n",
      "_________________________________________________________________\n",
      "output (Dense)               (None, 10)                1290      \n",
      "=================================================================\n",
      "Total params: 1,742,474\n",
      "Trainable params: 1,740,682\n",
      "Non-trainable params: 1,792\n",
      "_________________________________________________________________\n",
      "Train on 50000 samples, validate on 10000 samples\n",
      "Epoch 1/50\n",
      "50000/50000 [==============================] - 3s 64us/step - loss: 2.2177 - accuracy: 0.2775 - val_loss: 2.1081 - val_accuracy: 0.2100\n",
      "Epoch 2/50\n",
      "50000/50000 [==============================] - 3s 50us/step - loss: 1.7419 - accuracy: 0.3938 - val_loss: 1.9466 - val_accuracy: 0.3128\n",
      "Epoch 3/50\n",
      "50000/50000 [==============================] - 2s 48us/step - loss: 1.6214 - accuracy: 0.4348 - val_loss: 1.8066 - val_accuracy: 0.3801\n",
      "Epoch 4/50\n",
      "50000/50000 [==============================] - 3s 51us/step - loss: 1.5511 - accuracy: 0.4587 - val_loss: 1.7249 - val_accuracy: 0.4047\n",
      "Epoch 5/50\n",
      "50000/50000 [==============================] - 3s 53us/step - loss: 1.4969 - accuracy: 0.4768 - val_loss: 1.6415 - val_accuracy: 0.4285\n",
      "Epoch 6/50\n",
      "50000/50000 [==============================] - 3s 54us/step - loss: 1.4545 - accuracy: 0.4942 - val_loss: 1.5988 - val_accuracy: 0.4419\n",
      "Epoch 7/50\n",
      "50000/50000 [==============================] - 3s 52us/step - loss: 1.4138 - accuracy: 0.5064 - val_loss: 1.5519 - val_accuracy: 0.4570\n",
      "Epoch 8/50\n",
      "50000/50000 [==============================] - 3s 50us/step - loss: 1.3782 - accuracy: 0.5191 - val_loss: 1.5486 - val_accuracy: 0.4531\n",
      "Epoch 9/50\n",
      "50000/50000 [==============================] - 3s 51us/step - loss: 1.3475 - accuracy: 0.5313 - val_loss: 1.5201 - val_accuracy: 0.4644\n",
      "Epoch 10/50\n",
      "50000/50000 [==============================] - 3s 50us/step - loss: 1.3178 - accuracy: 0.5424 - val_loss: 1.5037 - val_accuracy: 0.4729\n",
      "Epoch 11/50\n",
      "50000/50000 [==============================] - 2s 50us/step - loss: 1.2882 - accuracy: 0.5539 - val_loss: 1.5002 - val_accuracy: 0.4734\n",
      "Epoch 12/50\n",
      "50000/50000 [==============================] - 3s 51us/step - loss: 1.2619 - accuracy: 0.5627 - val_loss: 1.4930 - val_accuracy: 0.4739\n",
      "Epoch 13/50\n",
      "50000/50000 [==============================] - 2s 50us/step - loss: 1.2367 - accuracy: 0.5727 - val_loss: 1.4860 - val_accuracy: 0.4749\n",
      "Epoch 14/50\n",
      "50000/50000 [==============================] - 3s 51us/step - loss: 1.2110 - accuracy: 0.5829 - val_loss: 1.4675 - val_accuracy: 0.4855\n",
      "Epoch 15/50\n",
      "50000/50000 [==============================] - 3s 50us/step - loss: 1.1853 - accuracy: 0.5915 - val_loss: 1.4705 - val_accuracy: 0.4869\n",
      "Epoch 16/50\n",
      "50000/50000 [==============================] - 3s 51us/step - loss: 1.1620 - accuracy: 0.6000 - val_loss: 1.4569 - val_accuracy: 0.4865\n",
      "Epoch 17/50\n",
      "50000/50000 [==============================] - 3s 50us/step - loss: 1.1392 - accuracy: 0.6072 - val_loss: 1.4668 - val_accuracy: 0.4866\n",
      "Epoch 18/50\n",
      "50000/50000 [==============================] - 3s 51us/step - loss: 1.1172 - accuracy: 0.6170 - val_loss: 1.4741 - val_accuracy: 0.4842\n",
      "Epoch 19/50\n",
      "50000/50000 [==============================] - 2s 50us/step - loss: 1.0949 - accuracy: 0.6259 - val_loss: 1.4590 - val_accuracy: 0.4890\n",
      "Epoch 20/50\n",
      "50000/50000 [==============================] - 3s 51us/step - loss: 1.0729 - accuracy: 0.6343 - val_loss: 1.4563 - val_accuracy: 0.4862\n",
      "Epoch 21/50\n",
      "50000/50000 [==============================] - 3s 52us/step - loss: 1.0534 - accuracy: 0.6432 - val_loss: 1.4621 - val_accuracy: 0.4915\n",
      "Epoch 22/50\n",
      "50000/50000 [==============================] - 3s 50us/step - loss: 1.0315 - accuracy: 0.6500 - val_loss: 1.4634 - val_accuracy: 0.4921\n",
      "Epoch 23/50\n",
      "50000/50000 [==============================] - 2s 49us/step - loss: 1.0104 - accuracy: 0.6580 - val_loss: 1.4674 - val_accuracy: 0.4960\n",
      "Epoch 24/50\n",
      "50000/50000 [==============================] - 3s 51us/step - loss: 0.9899 - accuracy: 0.6646 - val_loss: 1.4637 - val_accuracy: 0.4953\n",
      "Epoch 25/50\n",
      "50000/50000 [==============================] - 3s 50us/step - loss: 0.9695 - accuracy: 0.6739 - val_loss: 1.4632 - val_accuracy: 0.4953\n",
      "Epoch 26/50\n",
      "50000/50000 [==============================] - 2s 50us/step - loss: 0.9476 - accuracy: 0.6824 - val_loss: 1.4664 - val_accuracy: 0.4965\n",
      "Epoch 27/50\n",
      "50000/50000 [==============================] - 3s 50us/step - loss: 0.9288 - accuracy: 0.6891 - val_loss: 1.4697 - val_accuracy: 0.4968\n",
      "Epoch 28/50\n",
      "50000/50000 [==============================] - 2s 50us/step - loss: 0.9081 - accuracy: 0.6964 - val_loss: 1.4764 - val_accuracy: 0.4901\n",
      "Epoch 29/50\n",
      "50000/50000 [==============================] - 3s 50us/step - loss: 0.8881 - accuracy: 0.7048 - val_loss: 1.4788 - val_accuracy: 0.4956\n",
      "Epoch 30/50\n",
      "50000/50000 [==============================] - 3s 50us/step - loss: 0.8689 - accuracy: 0.7121 - val_loss: 1.4818 - val_accuracy: 0.4989\n",
      "Epoch 31/50\n",
      "50000/50000 [==============================] - 3s 50us/step - loss: 0.8497 - accuracy: 0.7209 - val_loss: 1.4930 - val_accuracy: 0.4902\n",
      "Epoch 32/50\n",
      "50000/50000 [==============================] - 3s 50us/step - loss: 0.8308 - accuracy: 0.7274 - val_loss: 1.4970 - val_accuracy: 0.4958\n",
      "Epoch 33/50\n",
      "50000/50000 [==============================] - 2s 50us/step - loss: 0.8113 - accuracy: 0.7363 - val_loss: 1.4955 - val_accuracy: 0.4938\n",
      "Epoch 34/50\n",
      "50000/50000 [==============================] - 2s 50us/step - loss: 0.7926 - accuracy: 0.7426 - val_loss: 1.5199 - val_accuracy: 0.4940\n",
      "Epoch 35/50\n",
      "50000/50000 [==============================] - 2s 49us/step - loss: 0.7749 - accuracy: 0.7481 - val_loss: 1.5076 - val_accuracy: 0.4955\n",
      "Epoch 36/50\n",
      "50000/50000 [==============================] - 3s 50us/step - loss: 0.7559 - accuracy: 0.7583 - val_loss: 1.5195 - val_accuracy: 0.4935\n",
      "Epoch 37/50\n",
      "50000/50000 [==============================] - 2s 49us/step - loss: 0.7371 - accuracy: 0.7642 - val_loss: 1.5307 - val_accuracy: 0.4935\n",
      "Epoch 38/50\n",
      "50000/50000 [==============================] - 2s 49us/step - loss: 0.7192 - accuracy: 0.7723 - val_loss: 1.5376 - val_accuracy: 0.4953\n",
      "Epoch 39/50\n",
      "50000/50000 [==============================] - 2s 49us/step - loss: 0.6983 - accuracy: 0.7811 - val_loss: 1.5360 - val_accuracy: 0.4932\n",
      "Epoch 40/50\n",
      "50000/50000 [==============================] - 2s 49us/step - loss: 0.6799 - accuracy: 0.7870 - val_loss: 1.5551 - val_accuracy: 0.4906\n",
      "Epoch 41/50\n",
      "50000/50000 [==============================] - 2s 48us/step - loss: 0.6643 - accuracy: 0.7923 - val_loss: 1.5637 - val_accuracy: 0.4863\n",
      "Epoch 42/50\n",
      "50000/50000 [==============================] - 2s 49us/step - loss: 0.6480 - accuracy: 0.8000 - val_loss: 1.5717 - val_accuracy: 0.4901\n",
      "Epoch 43/50\n",
      "50000/50000 [==============================] - 2s 49us/step - loss: 0.6274 - accuracy: 0.8084 - val_loss: 1.5607 - val_accuracy: 0.4905\n",
      "Epoch 44/50\n",
      "50000/50000 [==============================] - 3s 50us/step - loss: 0.6100 - accuracy: 0.8151 - val_loss: 1.5937 - val_accuracy: 0.4905\n",
      "Epoch 45/50\n",
      "50000/50000 [==============================] - 2s 50us/step - loss: 0.5952 - accuracy: 0.8217 - val_loss: 1.5915 - val_accuracy: 0.4919\n",
      "Epoch 46/50\n"
     ]
    },
    {
     "name": "stdout",
     "output_type": "stream",
     "text": [
      "50000/50000 [==============================] - 2s 50us/step - loss: 0.5755 - accuracy: 0.8276 - val_loss: 1.6055 - val_accuracy: 0.4962\n",
      "Epoch 47/50\n",
      "50000/50000 [==============================] - 2s 49us/step - loss: 0.5589 - accuracy: 0.8345 - val_loss: 1.6257 - val_accuracy: 0.4912\n",
      "Epoch 48/50\n",
      "50000/50000 [==============================] - 2s 50us/step - loss: 0.5423 - accuracy: 0.8432 - val_loss: 1.6423 - val_accuracy: 0.4854\n",
      "Epoch 49/50\n",
      "50000/50000 [==============================] - 2s 49us/step - loss: 0.5236 - accuracy: 0.8515 - val_loss: 1.6410 - val_accuracy: 0.4875\n",
      "Epoch 50/50\n",
      "50000/50000 [==============================] - 2s 49us/step - loss: 0.5112 - accuracy: 0.8549 - val_loss: 1.6630 - val_accuracy: 0.4894\n"
     ]
    }
   ],
   "source": [
    "# 載入 Callbacks\n",
    "\n",
    "\"\"\"\n",
    "# 載入 Callbacks, 並將監控目標設為 validation loss, 且只存最佳參數時的模型\n",
    "\"\"\"\n",
    "from keras.callbacks import ModelCheckpoint\n",
    "\n",
    "model_ckpt = ModelCheckpoint(filepath=\"./tmp.h5\", \n",
    "                             monitor=\"val_loss\", \n",
    "                             save_weights_only=True)\n",
    "\n",
    "results = {}\n",
    "\"\"\"Code Here\n",
    "撰寫你的訓練流程並將結果用 dictionary 紀錄\n",
    "\"\"\"\n",
    "\n",
    "model = build_mlp(input_shape=x_train.shape[1:])\n",
    "model.summary()\n",
    "optimizer = keras.optimizers.SGD(lr=LEARNING_RATE, nesterov=True, momentum=MOMENTUM)\n",
    "model.compile(loss=\"categorical_crossentropy\", metrics=[\"accuracy\"], optimizer=optimizer)\n",
    "\n",
    "model.fit(x_train, y_train, \n",
    "          epochs=EPOCHS, \n",
    "          batch_size=BATCH_SIZE, \n",
    "          validation_data=(x_test, y_test), \n",
    "          shuffle=True,\n",
    "          callbacks=[model_ckpt]\n",
    "         )\n",
    "\n",
    "# Collect results\n",
    "train_loss = model.history.history[\"loss\"]\n",
    "valid_loss = model.history.history[\"val_loss\"]\n",
    "train_acc = model.history.history[\"accuracy\"]\n",
    "valid_acc = model.history.history[\"val_accuracy\"]\n",
    "\n",
    "# Load back\n",
    "#model = keras.models.load_model(\"./tmp.h5\")\n",
    "#loss_loadback, acc_loadback = model.evaluate(x_test, y_test)"
   ]
  },
  {
   "cell_type": "code",
   "execution_count": 24,
   "metadata": {},
   "outputs": [
    {
     "name": "stdout",
     "output_type": "stream",
     "text": [
      "10000/10000 [==============================] - 1s 64us/step\n"
     ]
    }
   ],
   "source": [
    "model.save_weights(\"./tmp.h5\")\n",
    "\n",
    "model.load_weights(\"./tmp.h5\")\n",
    "loss_loadback, acc_loadback = model.evaluate(x_test, y_test)"
   ]
  },
  {
   "cell_type": "code",
   "execution_count": 25,
   "metadata": {
    "scrolled": true
   },
   "outputs": [
    {
     "data": {
      "image/png": "[encoded data removed]",
      "text/plain": [
       "<Figure size 432x288 with 1 Axes>"
      ]
     },
     "metadata": {
      "needs_background": "light"
     },
     "output_type": "display_data"
    },
    {
     "data": {
      "image/png": "[encoded data removed]",
      "text/plain": [
       "<Figure size 432x288 with 1 Axes>"
      ]
     },
     "metadata": {
      "needs_background": "light"
     },
     "output_type": "display_data"
    }
   ],
   "source": [
    "import matplotlib.pyplot as plt\n",
    "%matplotlib inline\n",
    "\n",
    "plt.plot(range(len(train_loss)), train_loss, label=\"train loss\")\n",
    "plt.plot(range(len(valid_loss)), valid_loss, label=\"valid loss\")\n",
    "plt.hlines(y=loss_loadback, xmin=0, xmax=len(train_loss), colors='r', linestyles='--')\n",
    "plt.legend()\n",
    "plt.title(\"Loss\")\n",
    "plt.show()\n",
    "\n",
    "plt.plot(range(len(train_acc)), train_acc, label=\"train accuracy\")\n",
    "plt.plot(range(len(valid_acc)), valid_acc, label=\"valid accuracy\")\n",
    "plt.hlines(y=acc_loadback, xmin=0, xmax=len(train_loss), colors='r', linestyles='--')\n",
    "plt.legend()\n",
    "plt.title(\"Accuracy\")\n",
    "plt.show()"
   ]
  },
  {
   "cell_type": "code",
   "execution_count": 16,
   "metadata": {},
   "outputs": [
    {
     "name": "stdout",
     "output_type": "stream",
     "text": [
      "50000/50000 [==============================] - 3s 63us/step\n"
     ]
    },
    {
     "data": {
      "text/plain": [
       "[0.5037756545066834, 0.8547800183296204]"
      ]
     },
     "execution_count": 16,
     "metadata": {},
     "output_type": "execute_result"
    }
   ],
   "source": [
    "model.evaluate(x_train, y_train)"
   ]
  },
  {
   "cell_type": "code",
   "execution_count": 19,
   "metadata": {},
   "outputs": [
    {
     "name": "stdout",
     "output_type": "stream",
     "text": [
      "50000/50000 [==============================] - 3s 63us/step\n"
     ]
    },
    {
     "data": {
      "text/plain": [
       "[0.5061036403942109, 0.8529000282287598]"
      ]
     },
     "execution_count": 19,
     "metadata": {},
     "output_type": "execute_result"
    }
   ],
   "source": [
    "model.evaluate(x_train, y_train)"
   ]
  },
  {
   "cell_type": "code",
   "execution_count": 26,
   "metadata": {},
   "outputs": [
    {
     "name": "stdout",
     "output_type": "stream",
     "text": [
      "50000/50000 [==============================] - 3s 64us/step\n"
     ]
    },
    {
     "data": {
      "text/plain": [
       "[0.5354824610710144, 0.8435400128364563]"
      ]
     },
     "execution_count": 26,
     "metadata": {},
     "output_type": "execute_result"
    }
   ],
   "source": [
    "model.evaluate(x_train, y_train)"
   ]
  },
  {
   "cell_type": "code",
   "execution_count": null,
   "metadata": {},
   "outputs": [],
   "source": []
  }
 ],
 "metadata": {
  "kernelspec": {
   "display_name": "Python 3",
   "language": "python",
   "name": "python3"
  },
  "language_info": {
   "codemirror_mode": {
    "name": "ipython",
    "version": 3
   },
   "file_extension": ".py",
   "mimetype": "text/x-python",
   "name": "python",
   "nbconvert_exporter": "python",
   "pygments_lexer": "ipython3",
   "version": "3.6.7"
  }
 },
 "nbformat": 4,
 "nbformat_minor": 2
}
