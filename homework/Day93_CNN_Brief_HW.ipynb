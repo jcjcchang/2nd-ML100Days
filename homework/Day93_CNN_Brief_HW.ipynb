{
  "nbformat": 4,
  "nbformat_minor": 0,
  "metadata": {
    "kernelspec": {
      "display_name": "Python 3",
      "language": "python",
      "name": "python3"
    },
    "language_info": {
      "codemirror_mode": {
        "name": "ipython",
        "version": 3
      },
      "file_extension": ".py",
      "mimetype": "text/x-python",
      "name": "python",
      "nbconvert_exporter": "python",
      "pygments_lexer": "ipython3",
      "version": "3.6.8"
    },
    "colab": {
      "name": "Day93-CNN_Brief_HW.ipynb",
      "provenance": [],
      "include_colab_link": true
    }
  },
  "cells": [
    {
      "cell_type": "markdown",
      "metadata": {
        "id": "view-in-github",
        "colab_type": "text"
      },
      "source": [
        "<a href=\"https://colab.research.google.com/github/jcjcchang/2nd-ML100Days/blob/master/homework/Day93_CNN_Brief_HW.ipynb\" target=\"_parent\"><img src=\"https://colab.research.google.com/assets/colab-badge.svg\" alt=\"Open In Colab\"/></a>"
      ]
    },
    {
      "cell_type": "markdown",
      "metadata": {
        "id": "tVoFgWh5NrXd",
        "colab_type": "text"
      },
      "source": [
        "# 作業目標:\n",
        "    運用 Keras 模組建構CNN, 了解 CNN 的架構\n",
        "    \n",
        "    "
      ]
    },
    {
      "cell_type": "markdown",
      "metadata": {
        "id": "wQOAH4_uNrXk",
        "colab_type": "text"
      },
      "source": [
        "# 作業重點\n",
        "(1)嘗試比對 Dense 與 layers.Conv2D 架構NN 的差異\n",
        "\n",
        "(2) 有沒有Pooling layer, 對於參數量的差異\n",
        "\n",
        "注意: input_shape 請勿修改"
      ]
    },
    {
      "cell_type": "code",
      "metadata": {
        "id": "29oETKl1NrXm",
        "colab_type": "code",
        "colab": {
          "base_uri": "https://localhost:8080/",
          "height": 97
        },
        "outputId": "2b7da3d0-4280-4e6c-d70c-c48f0cddfd31"
      },
      "source": [
        "#導入相關模組\n",
        "import keras\n",
        "from keras import layers\n",
        "from keras import models\n",
        "from keras.models import Sequential\n",
        "from keras.layers import Conv2D, Activation, MaxPooling2D, Flatten, Dense\n",
        "\n",
        "#確認keras 版本\n",
        "print(keras.__version__)"
      ],
      "execution_count": 1,
      "outputs": [
        {
          "output_type": "stream",
          "text": [
            "Using TensorFlow backend.\n"
          ],
          "name": "stderr"
        },
        {
          "output_type": "display_data",
          "data": {
            "text/html": [
              "<p style=\"color: red;\">\n",
              "The default version of TensorFlow in Colab will soon switch to TensorFlow 2.x.<br>\n",
              "We recommend you <a href=\"https://www.tensorflow.org/guide/migrate\" target=\"_blank\">upgrade</a> now \n",
              "or ensure your notebook will continue to use TensorFlow 1.x via the <code>%tensorflow_version 1.x</code> magic:\n",
              "<a href=\"https://colab.research.google.com/notebooks/tensorflow_version.ipynb\" target=\"_blank\">more info</a>.</p>\n"
            ],
            "text/plain": [
              "<IPython.core.display.HTML object>"
            ]
          },
          "metadata": {
            "tags": []
          }
        },
        {
          "output_type": "stream",
          "text": [
            "2.2.5\n"
          ],
          "name": "stdout"
        }
      ]
    },
    {
      "cell_type": "code",
      "metadata": {
        "id": "g6ixNw6ZNrXw",
        "colab_type": "code",
        "colab": {}
      },
      "source": [
        "\n",
        "model = Sequential([\n",
        "    Dense(xxx),\n",
        "    Activation(xxx),\n",
        "    Dense(xxx),\n",
        "    Activation(xxx),\n",
        "])\n",
        "\n",
        "model.summary()"
      ],
      "execution_count": 0,
      "outputs": []
    },
    {
      "cell_type": "markdown",
      "metadata": {
        "id": "168leuWZNrX1",
        "colab_type": "text"
      },
      "source": [
        "# layers.Conv2D 模型, 用作比對\n",
        "\n",
        "![CNN_Model.png](attachment:CNN_Model.png)\n",
        "\n"
      ]
    },
    {
      "cell_type": "code",
      "metadata": {
        "id": "LXJxtuDhNrX3",
        "colab_type": "code",
        "colab": {
          "base_uri": "https://localhost:8080/",
          "height": 547
        },
        "outputId": "a6293638-dd2c-4554-9668-3cba45b2e7b0"
      },
      "source": [
        "\n",
        "#建立一個序列模型\n",
        "model = models.Sequential()\n",
        "#建立兩個卷績層, 32 個內核, 內核大小 3x3, \n",
        "model.add(layers.Conv2D(32, (3, 3), input_shape=(28, 28, 1)))\n",
        "model.add(MaxPooling2D(2,2))\n",
        "model.add(layers.Conv2D(24, (3, 3)))\n",
        "model.add(MaxPooling2D(2,2))\n",
        "#輸入影像大小 28x28x1\n",
        "\n",
        "#建立一個全連接層\n",
        "model.add(Dense(units=100))\n",
        "model.add(Activation('relu'))\n",
        "\n",
        "#建立一個輸出層, 並採用softmax\n",
        "model.add(Dense(units=10))\n",
        "model.add(Activation('softmax'))\n",
        "\n",
        "model.summary()"
      ],
      "execution_count": 3,
      "outputs": [
        {
          "output_type": "stream",
          "text": [
            "WARNING:tensorflow:From /usr/local/lib/python3.6/dist-packages/keras/backend/tensorflow_backend.py:541: The name tf.placeholder is deprecated. Please use tf.compat.v1.placeholder instead.\n",
            "\n",
            "WARNING:tensorflow:From /usr/local/lib/python3.6/dist-packages/keras/backend/tensorflow_backend.py:4432: The name tf.random_uniform is deprecated. Please use tf.random.uniform instead.\n",
            "\n",
            "WARNING:tensorflow:From /usr/local/lib/python3.6/dist-packages/keras/backend/tensorflow_backend.py:4267: The name tf.nn.max_pool is deprecated. Please use tf.nn.max_pool2d instead.\n",
            "\n",
            "Model: \"sequential_2\"\n",
            "_________________________________________________________________\n",
            "Layer (type)                 Output Shape              Param #   \n",
            "=================================================================\n",
            "conv2d_1 (Conv2D)            (None, 26, 26, 32)        320       \n",
            "_________________________________________________________________\n",
            "max_pooling2d_1 (MaxPooling2 (None, 13, 13, 32)        0         \n",
            "_________________________________________________________________\n",
            "conv2d_2 (Conv2D)            (None, 11, 11, 24)        6936      \n",
            "_________________________________________________________________\n",
            "max_pooling2d_2 (MaxPooling2 (None, 5, 5, 24)          0         \n",
            "_________________________________________________________________\n",
            "dense_3 (Dense)              (None, 5, 5, 100)         2500      \n",
            "_________________________________________________________________\n",
            "activation_3 (Activation)    (None, 5, 5, 100)         0         \n",
            "_________________________________________________________________\n",
            "dense_4 (Dense)              (None, 5, 5, 10)          1010      \n",
            "_________________________________________________________________\n",
            "activation_4 (Activation)    (None, 5, 5, 10)          0         \n",
            "=================================================================\n",
            "Total params: 10,766\n",
            "Trainable params: 10,766\n",
            "Non-trainable params: 0\n",
            "_________________________________________________________________\n"
          ],
          "name": "stdout"
        }
      ]
    },
    {
      "cell_type": "code",
      "metadata": {
        "id": "Fpa1Xt9KODdW",
        "colab_type": "code",
        "colab": {}
      },
      "source": [
        ""
      ],
      "execution_count": 0,
      "outputs": []
    }
  ]
}