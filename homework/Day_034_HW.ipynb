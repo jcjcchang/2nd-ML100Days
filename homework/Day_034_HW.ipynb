{
  "nbformat": 4,
  "nbformat_minor": 0,
  "metadata": {
    "colab": {
      "name": "Day_034_HW.ipynb",
      "version": "0.3.2",
      "provenance": [],
      "include_colab_link": true
    },
    "language_info": {
      "codemirror_mode": {
        "name": "ipython",
        "version": 3
      },
      "file_extension": ".py",
      "mimetype": "text/x-python",
      "name": "python",
      "nbconvert_exporter": "python",
      "pygments_lexer": "ipython3",
      "version": "3.6.3"
    },
    "kernelspec": {
      "display_name": "Python 3",
      "language": "python",
      "name": "python3"
    }
  },
  "cells": [
    {
      "cell_type": "markdown",
      "metadata": {
        "id": "view-in-github",
        "colab_type": "text"
      },
      "source": [
        "<a href=\"https://colab.research.google.com/github/jcjcchang/2nd-ML100Days/blob/master/homework/Day_034_HW.ipynb\" target=\"_parent\"><img src=\"https://colab.research.google.com/assets/colab-badge.svg\" alt=\"Open In Colab\"/></a>"
      ]
    },
    {
      "cell_type": "markdown",
      "metadata": {
        "id": "8XuWpXblUgWA",
        "colab_type": "text"
      },
      "source": [
        "## 練習時間\n",
        "假設我們資料中類別的數量並不均衡，在評估準確率時可能會有所偏頗，試著切分出 y_test 中，0 類別與 1 類別的數量是一樣的 (亦即 y_test 的類別是均衡的)"
      ]
    },
    {
      "cell_type": "code",
      "metadata": {
        "id": "ILlgNvUOUgWC",
        "colab_type": "code",
        "colab": {}
      },
      "source": [
        "import numpy as np\n",
        "X = np.arange(1000).reshape(200, 5)\n",
        "y = np.zeros(200)\n",
        "y[:40] = 1"
      ],
      "execution_count": 0,
      "outputs": []
    },
    {
      "cell_type": "code",
      "metadata": {
        "id": "ZYtp4X98UgWH",
        "colab_type": "code",
        "colab": {},
        "outputId": "069482e7-ad7c-44a1-887c-926711547357"
      },
      "source": [
        "y"
      ],
      "execution_count": 0,
      "outputs": [
        {
          "output_type": "execute_result",
          "data": {
            "text/plain": [
              "array([1., 1., 1., 1., 1., 1., 1., 1., 1., 1., 1., 1., 1., 1., 1., 1., 1.,\n",
              "       1., 1., 1., 1., 1., 1., 1., 1., 1., 1., 1., 1., 1., 1., 1., 1., 1.,\n",
              "       1., 1., 1., 1., 1., 1., 0., 0., 0., 0., 0., 0., 0., 0., 0., 0., 0.,\n",
              "       0., 0., 0., 0., 0., 0., 0., 0., 0., 0., 0., 0., 0., 0., 0., 0., 0.,\n",
              "       0., 0., 0., 0., 0., 0., 0., 0., 0., 0., 0., 0., 0., 0., 0., 0., 0.,\n",
              "       0., 0., 0., 0., 0., 0., 0., 0., 0., 0., 0., 0., 0., 0., 0., 0., 0.,\n",
              "       0., 0., 0., 0., 0., 0., 0., 0., 0., 0., 0., 0., 0., 0., 0., 0., 0.,\n",
              "       0., 0., 0., 0., 0., 0., 0., 0., 0., 0., 0., 0., 0., 0., 0., 0., 0.,\n",
              "       0., 0., 0., 0., 0., 0., 0., 0., 0., 0., 0., 0., 0., 0., 0., 0., 0.,\n",
              "       0., 0., 0., 0., 0., 0., 0., 0., 0., 0., 0., 0., 0., 0., 0., 0., 0.,\n",
              "       0., 0., 0., 0., 0., 0., 0., 0., 0., 0., 0., 0., 0., 0., 0., 0., 0.,\n",
              "       0., 0., 0., 0., 0., 0., 0., 0., 0., 0., 0., 0., 0.])"
            ]
          },
          "metadata": {
            "tags": []
          },
          "execution_count": 3
        }
      ]
    },
    {
      "cell_type": "markdown",
      "metadata": {
        "id": "CElPijbjUgWO",
        "colab_type": "text"
      },
      "source": [
        "可以看見 y 類別中，有 160 個 類別 0，40 個 類別 1 ，請試著使用 train_test_split 函數，切分出 y_test 中能各有 10 筆類別 0 與 10 筆類別 1 。(HINT: 參考函數中的 test_size，可針對不同類別各自作切分後再合併)"
      ]
    },
    {
      "cell_type": "code",
      "metadata": {
        "id": "gBJovXOgUgWQ",
        "colab_type": "code",
        "colab": {}
      },
      "source": [
        "from sklearn.model_selection import train_test_split,KFold"
      ],
      "execution_count": 0,
      "outputs": []
    },
    {
      "cell_type": "code",
      "metadata": {
        "id": "N9kVQHiph3ZO",
        "colab_type": "code",
        "colab": {
          "base_uri": "https://localhost:8080/",
          "height": 711
        },
        "outputId": "3d0ba469-449b-43b9-dd05-2378113d9d10"
      },
      "source": [
        "X_pos = X[y==1]\n",
        "X_pos"
      ],
      "execution_count": 13,
      "outputs": [
        {
          "output_type": "execute_result",
          "data": {
            "text/plain": [
              "array([[  0,   1,   2,   3,   4],\n",
              "       [  5,   6,   7,   8,   9],\n",
              "       [ 10,  11,  12,  13,  14],\n",
              "       [ 15,  16,  17,  18,  19],\n",
              "       [ 20,  21,  22,  23,  24],\n",
              "       [ 25,  26,  27,  28,  29],\n",
              "       [ 30,  31,  32,  33,  34],\n",
              "       [ 35,  36,  37,  38,  39],\n",
              "       [ 40,  41,  42,  43,  44],\n",
              "       [ 45,  46,  47,  48,  49],\n",
              "       [ 50,  51,  52,  53,  54],\n",
              "       [ 55,  56,  57,  58,  59],\n",
              "       [ 60,  61,  62,  63,  64],\n",
              "       [ 65,  66,  67,  68,  69],\n",
              "       [ 70,  71,  72,  73,  74],\n",
              "       [ 75,  76,  77,  78,  79],\n",
              "       [ 80,  81,  82,  83,  84],\n",
              "       [ 85,  86,  87,  88,  89],\n",
              "       [ 90,  91,  92,  93,  94],\n",
              "       [ 95,  96,  97,  98,  99],\n",
              "       [100, 101, 102, 103, 104],\n",
              "       [105, 106, 107, 108, 109],\n",
              "       [110, 111, 112, 113, 114],\n",
              "       [115, 116, 117, 118, 119],\n",
              "       [120, 121, 122, 123, 124],\n",
              "       [125, 126, 127, 128, 129],\n",
              "       [130, 131, 132, 133, 134],\n",
              "       [135, 136, 137, 138, 139],\n",
              "       [140, 141, 142, 143, 144],\n",
              "       [145, 146, 147, 148, 149],\n",
              "       [150, 151, 152, 153, 154],\n",
              "       [155, 156, 157, 158, 159],\n",
              "       [160, 161, 162, 163, 164],\n",
              "       [165, 166, 167, 168, 169],\n",
              "       [170, 171, 172, 173, 174],\n",
              "       [175, 176, 177, 178, 179],\n",
              "       [180, 181, 182, 183, 184],\n",
              "       [185, 186, 187, 188, 189],\n",
              "       [190, 191, 192, 193, 194],\n",
              "       [195, 196, 197, 198, 199]])"
            ]
          },
          "metadata": {
            "tags": []
          },
          "execution_count": 13
        }
      ]
    },
    {
      "cell_type": "code",
      "metadata": {
        "id": "WXNwOp8qgfdt",
        "colab_type": "code",
        "colab": {
          "base_uri": "https://localhost:8080/",
          "height": 35
        },
        "outputId": "03e55b86-5945-4cb1-9abd-5e90b45a3129"
      },
      "source": [
        "y_pos = y[y==1]\n",
        "X_pos = X[y==1]\n",
        "y_neg = y[y==0]\n",
        "X_neg = X[y==0]\n",
        "\n",
        "X_train_p,X_test_p,y_train_p,y_test_p = train_test_split(X_pos,y_pos,test_size = 0.25)\n",
        "y_test_p\n",
        "\n",
        "X_train_n,X_test_n,y_train_n,y_test_n = train_test_split(X_neg,y_neg,test_size = (10/160))\n",
        "y_test_n\n"
      ],
      "execution_count": 16,
      "outputs": [
        {
          "output_type": "execute_result",
          "data": {
            "text/plain": [
              "array([0., 0., 0., 0., 0., 0., 0., 0., 0., 0.])"
            ]
          },
          "metadata": {
            "tags": []
          },
          "execution_count": 16
        }
      ]
    },
    {
      "cell_type": "code",
      "metadata": {
        "id": "9nmoOxbaiVSe",
        "colab_type": "code",
        "colab": {
          "base_uri": "https://localhost:8080/",
          "height": 35
        },
        "outputId": "bd30883e-067a-4a79-c1b3-ddd1f976bee3"
      },
      "source": [
        "y_test = np.append(y_test_p,y_test_n)\n",
        "print(y_test)"
      ],
      "execution_count": 28,
      "outputs": [
        {
          "output_type": "stream",
          "text": [
            "[1. 1. 1. 1. 1. 1. 1. 1. 1. 1. 0. 0. 0. 0. 0. 0. 0. 0. 0. 0.]\n"
          ],
          "name": "stdout"
        }
      ]
    },
    {
      "cell_type": "code",
      "metadata": {
        "id": "HP_bAJYLgf7h",
        "colab_type": "code",
        "colab": {
          "base_uri": "https://localhost:8080/",
          "height": 121
        },
        "outputId": "dbd31821-33dd-4d26-99e9-db0f9e9324eb"
      },
      "source": [
        "X_test = np.append(X_test_p,X_test_n)\n",
        "print(X_test)"
      ],
      "execution_count": 29,
      "outputs": [
        {
          "output_type": "stream",
          "text": [
            "[ 35  36  37  38  39 160 161 162 163 164  45  46  47  48  49  95  96  97\n",
            "  98  99   0   1   2   3   4 125 126 127 128 129  65  66  67  68  69 175\n",
            " 176 177 178 179 120 121 122 123 124   5   6   7   8   9 860 861 862 863\n",
            " 864 505 506 507 508 509 980 981 982 983 984 780 781 782 783 784 565 566\n",
            " 567 568 569 690 691 692 693 694 685 686 687 688 689 680 681 682 683 684\n",
            " 360 361 362 363 364 410 411 412 413 414]\n"
          ],
          "name": "stdout"
        }
      ]
    },
    {
      "cell_type": "code",
      "metadata": {
        "id": "UiYMgpKlg7MO",
        "colab_type": "code",
        "colab": {}
      },
      "source": [
        ""
      ],
      "execution_count": 0,
      "outputs": []
    },
    {
      "cell_type": "code",
      "metadata": {
        "id": "Kup5xOhvhd7o",
        "colab_type": "code",
        "colab": {}
      },
      "source": [
        ""
      ],
      "execution_count": 0,
      "outputs": []
    }
  ]
}