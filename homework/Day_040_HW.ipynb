{
  "nbformat": 4,
  "nbformat_minor": 0,
  "metadata": {
    "colab": {
      "name": "Day_040_HW.ipynb",
      "version": "0.3.2",
      "provenance": [],
      "include_colab_link": true
    },
    "language_info": {
      "codemirror_mode": {
        "name": "ipython",
        "version": 3
      },
      "file_extension": ".py",
      "mimetype": "text/x-python",
      "name": "python",
      "nbconvert_exporter": "python",
      "pygments_lexer": "ipython3",
      "version": "3.6.2"
    },
    "kernelspec": {
      "display_name": "Python 3",
      "language": "python",
      "name": "python3"
    }
  },
  "cells": [
    {
      "cell_type": "markdown",
      "metadata": {
        "id": "view-in-github",
        "colab_type": "text"
      },
      "source": [
        "<a href=\"https://colab.research.google.com/github/jcjcchang/2nd-ML100Days/blob/master/homework/Day_040_HW.ipynb\" target=\"_parent\"><img src=\"https://colab.research.google.com/assets/colab-badge.svg\" alt=\"Open In Colab\"/></a>"
      ]
    },
    {
      "cell_type": "markdown",
      "metadata": {
        "id": "j4Qc6z-yWta1",
        "colab_type": "text"
      },
      "source": [
        "## [作業重點]\n",
        "使用 Sklearn 中的 Lasso, Ridge 模型，來訓練各種資料集，務必了解送進去模型訓練的**資料型態**為何，也請了解模型中各項參數的意義。\n",
        "\n",
        "機器學習的模型非常多種，但要訓練的資料多半有固定的格式，確保你了解訓練資料的格式為何，這樣在應用新模型時，就能夠最快的上手開始訓練！"
      ]
    },
    {
      "cell_type": "markdown",
      "metadata": {
        "id": "eWVYTPDdWta3",
        "colab_type": "text"
      },
      "source": [
        "## 練習時間\n",
        "試著使用 sklearn datasets 的其他資料集 (boston, ...)，來訓練自己的線性迴歸模型，並加上適當的正則話來觀察訓練情形。"
      ]
    },
    {
      "cell_type": "code",
      "metadata": {
        "id": "i4Z6p1neWta4",
        "colab_type": "code",
        "colab": {}
      },
      "source": [
        "import numpy as np\n",
        "import matplotlib.pyplot as plt\n",
        "from sklearn import datasets, linear_model\n",
        "from sklearn.model_selection import train_test_split\n",
        "from sklearn.metrics import mean_squared_error, r2_score"
      ],
      "execution_count": 0,
      "outputs": []
    },
    {
      "cell_type": "code",
      "metadata": {
        "id": "tuy8EUTBXVMR",
        "colab_type": "code",
        "colab": {}
      },
      "source": [
        "dt = datasets.load_boston()\n",
        "dt_x = dt.data\n",
        "dt_y = dt.target"
      ],
      "execution_count": 0,
      "outputs": []
    },
    {
      "cell_type": "code",
      "metadata": {
        "id": "6jHOJWMwXZ3v",
        "colab_type": "code",
        "colab": {}
      },
      "source": [
        "x_train,x_test,y_train,y_test = train_test_split(dt_x,dt_y,test_size = 0.2 , random_state = 4)\n",
        "re = linear_model.LinearRegression()\n",
        "re.fit(x_train,y_train)\n",
        "y_pred = re.predict(x_test)"
      ],
      "execution_count": 0,
      "outputs": []
    },
    {
      "cell_type": "code",
      "metadata": {
        "id": "m3T9oMEQX2BP",
        "colab_type": "code",
        "colab": {
          "base_uri": "https://localhost:8080/",
          "height": 87
        },
        "outputId": "3bddfb3f-0173-402d-90c4-49f63c710a46"
      },
      "source": [
        "print(re.coef_)"
      ],
      "execution_count": 6,
      "outputs": [
        {
          "output_type": "stream",
          "text": [
            "[-1.15966452e-01  4.71249231e-02  8.25980146e-03  3.23404531e+00\n",
            " -1.66865890e+01  3.88410651e+00 -1.08974442e-02 -1.54129540e+00\n",
            "  2.93208309e-01 -1.34059383e-02 -9.06296429e-01  8.80823439e-03\n",
            " -4.57723846e-01]\n"
          ],
          "name": "stdout"
        }
      ]
    },
    {
      "cell_type": "code",
      "metadata": {
        "id": "eeKTWU4mX8Xt",
        "colab_type": "code",
        "colab": {
          "base_uri": "https://localhost:8080/",
          "height": 35
        },
        "outputId": "63787ea1-7067-4367-ab80-75a1415b71bf"
      },
      "source": [
        "# 預測值與實際值的差距，使用 MSE\n",
        "print(\"Mean squared error: %.2f\"\n",
        "      % mean_squared_error(y_test, y_pred))"
      ],
      "execution_count": 7,
      "outputs": [
        {
          "output_type": "stream",
          "text": [
            "Mean squared error: 25.42\n"
          ],
          "name": "stdout"
        }
      ]
    },
    {
      "cell_type": "code",
      "metadata": {
        "id": "taJAs4ksX_lh",
        "colab_type": "code",
        "colab": {
          "base_uri": "https://localhost:8080/",
          "height": 87
        },
        "outputId": "924f83bf-774d-4a9a-bdb7-db79dc7e3f05"
      },
      "source": [
        "lasso = linear_model.Lasso(alpha=1.0)\n",
        "\n",
        "# 將訓練資料丟進去模型訓練\n",
        "lasso.fit(x_train, y_train)\n",
        "\n",
        "# 將測試資料丟進模型得到預測結果\n",
        "y_pred = lasso.predict(x_test)\n",
        "\n",
        "print(lasso.coef_)\n",
        "\n",
        "# 預測值與實際值的差距，使用 MSE\n",
        "print(\"Mean squared error: %.2f\"\n",
        "      % mean_squared_error(y_test, y_pred))"
      ],
      "execution_count": 10,
      "outputs": [
        {
          "output_type": "stream",
          "text": [
            "[-0.06494981  0.04581458 -0.          0.         -0.          1.18140024\n",
            "  0.01109101 -0.73695809  0.23350042 -0.01551065 -0.69270805  0.00763157\n",
            " -0.6927848 ]\n",
            "Mean squared error: 28.95\n"
          ],
          "name": "stdout"
        }
      ]
    },
    {
      "cell_type": "code",
      "metadata": {
        "id": "4GjNxXQZYKc0",
        "colab_type": "code",
        "colab": {
          "base_uri": "https://localhost:8080/",
          "height": 87
        },
        "outputId": "24e217e3-1e23-4430-f797-4b694ceff622"
      },
      "source": [
        "lasso = linear_model.Lasso(alpha=10.0)\n",
        "\n",
        "# 將訓練資料丟進去模型訓練\n",
        "lasso.fit(x_train, y_train)\n",
        "\n",
        "# 將測試資料丟進模型得到預測結果\n",
        "y_pred = lasso.predict(x_test)\n",
        "\n",
        "print(lasso.coef_)\n",
        "\n",
        "# 預測值與實際值的差距，使用 MSE\n",
        "print(\"Mean squared error: %.2f\"\n",
        "      % mean_squared_error(y_test, y_pred))"
      ],
      "execution_count": 11,
      "outputs": [
        {
          "output_type": "stream",
          "text": [
            "[-0.          0.01832072 -0.          0.          0.          0.\n",
            "  0.         -0.          0.         -0.01151799 -0.          0.00615268\n",
            " -0.52036911]\n",
            "Mean squared error: 47.63\n"
          ],
          "name": "stdout"
        }
      ]
    },
    {
      "cell_type": "code",
      "metadata": {
        "id": "6QMwyaUBYNam",
        "colab_type": "code",
        "colab": {
          "base_uri": "https://localhost:8080/",
          "height": 87
        },
        "outputId": "15ae9f6c-30b2-492c-8ee0-019ed8797d5f"
      },
      "source": [
        "lasso = linear_model.Lasso(alpha=.1)\n",
        "\n",
        "# 將訓練資料丟進去模型訓練\n",
        "lasso.fit(x_train, y_train)\n",
        "\n",
        "# 將測試資料丟進模型得到預測結果\n",
        "y_pred = lasso.predict(x_test)\n",
        "\n",
        "print(lasso.coef_)\n",
        "\n",
        "# 預測值與實際值的差距，使用 MSE\n",
        "print(\"Mean squared error: %.2f\"\n",
        "      % mean_squared_error(y_test, y_pred))"
      ],
      "execution_count": 12,
      "outputs": [
        {
          "output_type": "stream",
          "text": [
            "[-0.10618872  0.04886351 -0.04536655  1.14953069 -0.          3.82353877\n",
            " -0.02089779 -1.23590613  0.26008876 -0.01517094 -0.74673362  0.00963864\n",
            " -0.49877104]\n",
            "Mean squared error: 26.45\n"
          ],
          "name": "stdout"
        }
      ]
    },
    {
      "cell_type": "code",
      "metadata": {
        "id": "kA8CHOVRYis5",
        "colab_type": "code",
        "colab": {
          "base_uri": "https://localhost:8080/",
          "height": 87
        },
        "outputId": "f56c829b-c1f2-4f50-a92d-6bb5913b3bf5"
      },
      "source": [
        "lasso = linear_model.Lasso(alpha=5.0)\n",
        "\n",
        "# 將訓練資料丟進去模型訓練\n",
        "lasso.fit(x_train, y_train)\n",
        "\n",
        "# 將測試資料丟進模型得到預測結果\n",
        "y_pred = lasso.predict(x_test)\n",
        "\n",
        "print(lasso.coef_)\n",
        "\n",
        "# 預測值與實際值的差距，使用 MSE\n",
        "print(\"Mean squared error: %.2f\"\n",
        "      % mean_squared_error(y_test, y_pred))"
      ],
      "execution_count": 13,
      "outputs": [
        {
          "output_type": "stream",
          "text": [
            "[-0.          0.03027739 -0.          0.          0.          0.\n",
            "  0.02872114 -0.          0.         -0.00951653 -0.          0.00494745\n",
            " -0.70024171]\n",
            "Mean squared error: 41.58\n"
          ],
          "name": "stdout"
        }
      ]
    },
    {
      "cell_type": "code",
      "metadata": {
        "id": "kU8S4Qw4YlnV",
        "colab_type": "code",
        "colab": {
          "base_uri": "https://localhost:8080/",
          "height": 87
        },
        "outputId": "aafea166-59f2-45d9-b9c6-31e0974bd857"
      },
      "source": [
        "ridge = linear_model.Ridge(alpha=10.0)\n",
        "\n",
        "# 將訓練資料丟進去模型訓練\n",
        "ridge.fit(x_train, y_train)\n",
        "\n",
        "# 將測試資料丟進模型得到預測結果\n",
        "y_pred = ridge.predict(x_test)\n",
        "\n",
        "print(ridge.coef_)\n",
        "\n",
        "# 預測值與實際值的差距，使用 MSE\n",
        "print(\"Mean squared error: %.2f\"\n",
        "      % mean_squared_error(y_test, y_pred))"
      ],
      "execution_count": 14,
      "outputs": [
        {
          "output_type": "stream",
          "text": [
            "[-0.10983294  0.049805   -0.05382756  2.06396836 -1.86500987  3.73850198\n",
            " -0.02135944 -1.32033911  0.2667507  -0.01481666 -0.77176853  0.00945631\n",
            " -0.49564775]\n",
            "Mean squared error: 26.24\n"
          ],
          "name": "stdout"
        }
      ]
    },
    {
      "cell_type": "code",
      "metadata": {
        "id": "z9Y6hTgWYvxY",
        "colab_type": "code",
        "colab": {
          "base_uri": "https://localhost:8080/",
          "height": 104
        },
        "outputId": "49733da5-f2a7-481a-bebd-f09b1a45e335"
      },
      "source": [
        "ridge = linear_model.Ridge(alpha=1.0)\n",
        "\n",
        "# 將訓練資料丟進去模型訓練\n",
        "ridge.fit(x_train, y_train)\n",
        "\n",
        "# 將測試資料丟進模型得到預測結果\n",
        "y_pred = ridge.predict(x_test)\n",
        "\n",
        "print(ridge.coef_)\n",
        "\n",
        "# 預測值與實際值的差距，使用 MSE\n",
        "print(\"Mean squared error: %.2f\"\n",
        "      % mean_squared_error(y_test, y_pred))"
      ],
      "execution_count": 15,
      "outputs": [
        {
          "output_type": "stream",
          "text": [
            "[-1.12499445e-01  4.79562332e-02 -2.40438147e-02  2.96199458e+00\n",
            " -9.33966118e+00  3.93079015e+00 -1.73821202e-02 -1.43347691e+00\n",
            "  2.75239392e-01 -1.38920708e-02 -8.31116943e-01  9.15637729e-03\n",
            " -4.66460539e-01]\n",
            "Mean squared error: 25.74\n"
          ],
          "name": "stdout"
        }
      ]
    },
    {
      "cell_type": "code",
      "metadata": {
        "id": "TyKJG8iOYzM2",
        "colab_type": "code",
        "colab": {
          "base_uri": "https://localhost:8080/",
          "height": 104
        },
        "outputId": "31451ca6-274e-4b7d-f30f-e3f7a1f31ebb"
      },
      "source": [
        "ridge = linear_model.Ridge(alpha=0.1)\n",
        "\n",
        "# 將訓練資料丟進去模型訓練\n",
        "ridge.fit(x_train, y_train)\n",
        "\n",
        "# 將測試資料丟進模型得到預測結果\n",
        "y_pred = ridge.predict(x_test)\n",
        "\n",
        "print(ridge.coef_)\n",
        "\n",
        "# 預測值與實際值的差距，使用 MSE\n",
        "print(\"Mean squared error: %.2f\"\n",
        "      % mean_squared_error(y_test, y_pred))"
      ],
      "execution_count": 16,
      "outputs": [
        {
          "output_type": "stream",
          "text": [
            "[-1.15381303e-01  4.72528249e-02  2.87371589e-03  3.19642306e+00\n",
            " -1.54713824e+01  3.89388927e+00 -1.19943742e-02 -1.52347878e+00\n",
            "  2.90133016e-01 -1.34816989e-02 -8.93679905e-01  8.86599187e-03\n",
            " -4.58983115e-01]\n",
            "Mean squared error: 25.46\n"
          ],
          "name": "stdout"
        }
      ]
    },
    {
      "cell_type": "code",
      "metadata": {
        "id": "hSM7INQyY3LY",
        "colab_type": "code",
        "colab": {
          "base_uri": "https://localhost:8080/",
          "height": 87
        },
        "outputId": "91277ba1-c02c-476a-c134-95a17c9a592d"
      },
      "source": [
        "ridge = linear_model.Ridge(alpha=100.0)\n",
        "\n",
        "# 將訓練資料丟進去模型訓練\n",
        "ridge.fit(x_train, y_train)\n",
        "\n",
        "# 將測試資料丟進模型得到預測結果\n",
        "y_pred = ridge.predict(x_test)\n",
        "\n",
        "print(ridge.coef_)\n",
        "\n",
        "# 預測值與實際值的差距，使用 MSE\n",
        "print(\"Mean squared error: %.2f\"\n",
        "      % mean_squared_error(y_test, y_pred))"
      ],
      "execution_count": 17,
      "outputs": [
        {
          "output_type": "stream",
          "text": [
            "[-0.10763397  0.05372159 -0.05747993  0.60034259 -0.19610981  2.21912389\n",
            " -0.00637912 -1.19515097  0.29907624 -0.01644862 -0.80880248  0.00878369\n",
            " -0.61287022]\n",
            "Mean squared error: 26.70\n"
          ],
          "name": "stdout"
        }
      ]
    },
    {
      "cell_type": "code",
      "metadata": {
        "id": "XjCEMEwzY5XE",
        "colab_type": "code",
        "colab": {}
      },
      "source": [
        ""
      ],
      "execution_count": 0,
      "outputs": []
    }
  ]
}