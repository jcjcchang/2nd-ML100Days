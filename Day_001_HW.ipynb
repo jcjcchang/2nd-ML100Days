{
  "nbformat": 4,
  "nbformat_minor": 0,
  "metadata": {
    "colab": {
      "name": "Day_001_HW.ipynb",
      "version": "0.3.2",
      "provenance": [],
      "collapsed_sections": [],
      "include_colab_link": true
    },
    "language_info": {
      "codemirror_mode": {
        "name": "ipython",
        "version": 3
      },
      "file_extension": ".py",
      "mimetype": "text/x-python",
      "name": "python",
      "nbconvert_exporter": "python",
      "pygments_lexer": "ipython3",
      "version": "3.5.6"
    },
    "kernelspec": {
      "display_name": "Python [default]",
      "language": "python",
      "name": "python3"
    }
  },
  "cells": [
    {
      "cell_type": "markdown",
      "metadata": {
        "id": "view-in-github",
        "colab_type": "text"
      },
      "source": [
        "<a href=\"https://colab.research.google.com/github/jcjcchang/2nd-ML100Days/blob/master/Day_001_HW.ipynb\" target=\"_parent\"><img src=\"https://colab.research.google.com/assets/colab-badge.svg\" alt=\"Open In Colab\"/></a>"
      ]
    },
    {
      "metadata": {
        "id": "aS-DBDw3lxX5",
        "colab_type": "text"
      },
      "cell_type": "markdown",
      "source": [
        "作業1：\n",
        "\n",
        "請上 Kaggle, 在 Competitions 或 Dataset 中找一組競賽或資料並寫下：\n",
        "\n",
        "\n",
        "Predict Future Sales\n",
        "Final project for \"How to win a data science competition\" Coursera course\n",
        "\n",
        "1. 你選的這組資料為何重要\n",
        "企業的核心問題\n",
        "\n",
        "2. 資料從何而來 (tips: 譬如提供者是誰、以什麼方式蒐集)\n",
        "商店的資訊 (可能是網路or ERP )\n",
        "\n",
        "\n",
        "3. 蒐集而來的資料型態為何\n",
        "結構化的 CSV\n",
        "\n",
        "sales_train.csv - the training set. Daily historical data from January 2013 to October 2015.\n",
        "test.csv - the test set. You need to forecast the sales for these shops and products for November 2015.\n",
        "sample_submission.csv - a sample submission file in the correct format.\n",
        "items.csv - supplemental information about the items/products.\n",
        "item_categories.csv  - supplemental information about the items categories.\n",
        "shops.csv- supplemental information about the shops.\n",
        "\n",
        "\n",
        "\n",
        "\n",
        "\n",
        "Data fields\n",
        "\n",
        "ID - an Id that represents a (Shop, Item) tuple within the test set\n",
        "\n",
        "shop_id - unique identifier of a shop\n",
        "\n",
        "item_id - unique identifier of a product\n",
        "\n",
        "item_category_id - unique identifier of item category\n",
        "\n",
        "item_cnt_day - number of products sold. You are predicting a \n",
        "\n",
        "monthly amount of this measure\n",
        "\n",
        "item_price - current price of an item\n",
        "\n",
        "date - date in format dd/mm/yyyy\n",
        "\n",
        "date_block_num - a consecutive month number, used for convenience. January 2013 is 0, February 2013 is 1,..., October 2015 is 33\n",
        "\n",
        "item_name - name of item\n",
        "\n",
        "shop_name - name of shop\n",
        "\n",
        "item_category_name - name of item category\n",
        "\n",
        "4. 這組資料想解決的問題如何評估\n",
        "To predict Future Sales \n",
        "\n"
      ]
    },
    {
      "metadata": {
        "id": "2Sbk0IB9nxLU",
        "colab_type": "text"
      },
      "cell_type": "markdown",
      "source": [
        "作業2：\n",
        "\n",
        "想像你經營一個自由載客車隊，你希望能透過數據分析以提升業績，請你思考並描述你如何規劃整體的分析/解決方案：\n",
        "\n",
        "1. 核心問題為何 (tips：如何定義 「提升業績 & 你的假設」)\n",
        "\n",
        "--> 在對的時間 , 地點 , 出現在需要的客人面前 : 即可提升業績\n",
        "\n",
        "--> 先簡化為:在台北(假設是我們車隊的載客範圍)什麼時間需要搭車的客人最多 \n",
        "\n",
        "--> 我就可以調整工作時間來提升業績 \n",
        "\n",
        "\n",
        "\n",
        "2. 資料從何而來 (tips：哪些資料可能會對你想問的問題產生影響 & 資料如何蒐集)\n",
        "\n",
        "--> 天氣：下雨天大家會想要搭車 , 大太陽 ??不確定 --> 中央氣象資料\n",
        "\n",
        "--> 大型活動 ：爬蟲活動公告欄等等 (小巨蛋公告等等)\n",
        "\n",
        "--> Friday night ：日曆, 節日資料\n",
        "\n",
        "\n",
        "3. 蒐集而來的資料型態為何\n",
        "結構化 : 數值 , 文字 \n",
        "\n",
        "4. 你要回答的問題，其如何評估 (tips：你的假設如何驗證)\n",
        "\n",
        " 自己紀錄單位時間內的載客數, 單位時間的叫車通報數 "
      ]
    },
    {
      "metadata": {
        "id": "Yg-eWKMqlwkr",
        "colab_type": "code",
        "colab": {}
      },
      "cell_type": "code",
      "source": [
        ""
      ],
      "execution_count": 0,
      "outputs": []
    },
    {
      "metadata": {
        "id": "ocR-vJSGljWY",
        "colab_type": "text"
      },
      "cell_type": "markdown",
      "source": [
        "## 練習時間\n",
        "#### 請寫一個函式用來計算 Mean Square Error\n",
        "$ MSE = \\frac{1}{n}\\sum_{i=1}^{n}{(Y_i - \\hat{Y}_i)^2} $\n",
        "\n",
        "### Hint: [如何取平方](https://googoodesign.gitbooks.io/-ezpython/unit-1.html)"
      ]
    },
    {
      "metadata": {
        "id": "6ySRLagZljWa",
        "colab_type": "code",
        "colab": {}
      },
      "cell_type": "code",
      "source": [
        "import numpy as np\n",
        "import matplotlib.pyplot as plt"
      ],
      "execution_count": 0,
      "outputs": []
    },
    {
      "metadata": {
        "id": "9ou1CecEljWd",
        "colab_type": "code",
        "colab": {}
      },
      "cell_type": "code",
      "source": [
        "def mean_squared_error():\n",
        "    \"\"\"\n",
        "    請完成這個 Function 後往下執行\n",
        "    \"\"\"\n"
      ],
      "execution_count": 0,
      "outputs": []
    },
    {
      "metadata": {
        "id": "dieL1zP-ljWg",
        "colab_type": "code",
        "colab": {}
      },
      "cell_type": "code",
      "source": [
        "w = 3\n",
        "b = 0.5\n",
        "\n",
        "x_lin = np.linspace(0, 100, 101)\n",
        "\n",
        "y = (x_lin + np.random.randn(101) * 5) * w + b\n",
        "\n",
        "plt.plot(x_lin, y, 'b.', label = 'data points')\n",
        "plt.title(\"Assume we have data points\")\n",
        "plt.legend(loc = 2)\n",
        "plt.show()"
      ],
      "execution_count": 0,
      "outputs": []
    },
    {
      "metadata": {
        "id": "Y8RWvrLtljWi",
        "colab_type": "code",
        "colab": {}
      },
      "cell_type": "code",
      "source": [
        "y_hat = x_lin * w + b\n",
        "plt.plot(x_lin, y, 'b.', label = 'data')\n",
        "plt.plot(x_lin, y_hat, 'r-', label = 'prediction')\n",
        "plt.title(\"Assume we have data points (And the prediction)\")\n",
        "plt.legend(loc = 2)\n",
        "plt.show()"
      ],
      "execution_count": 0,
      "outputs": []
    },
    {
      "metadata": {
        "id": "vp-k6OlwljWk",
        "colab_type": "code",
        "colab": {}
      },
      "cell_type": "code",
      "source": [
        "# 執行 Function, 確認有沒有正常執行\n",
        "MSE = mean_squared_error(y, y_hat)\n",
        "MAE = mean_absolute_error(y, y_hat)\n",
        "print(\"The Mean squared error is %.3f\" % (MSE))\n",
        "print(\"The Mean absolute error is %.3f\" % (MAE))"
      ],
      "execution_count": 0,
      "outputs": []
    }
  ]
}